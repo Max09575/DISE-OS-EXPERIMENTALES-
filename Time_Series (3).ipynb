{
  "cells": [
    {
      "cell_type": "markdown",
      "metadata": {
        "id": "e_8MyzkhuYfe"
      },
      "source": [
        "# **Modelando una serie de tiempo del gasto devengado en trimestres (1999-2022)**\n",
        " - Objetivo:\n",
        "  - Modelar una serie de tiempo que ayude en la prevención del gobierno con respecto al gasto que se devenga a nivel nacional  cada trimestre (sin contar extrajeros), en donde hayan mecanismos de mejora para que se cumpla el compromiso.\n",
        "\n",
        " - Fuente: \n",
        " \n",
        "  - Los datos fueron extraidos de la pagina del MEF en la sección, *Consulta Amigable*: <https://apps5.mineco.gob.pe/transparencia/Navegador/default.aspx>"
      ]
    },
    {
      "cell_type": "code",
      "execution_count": 24,
      "metadata": {
        "colab": {
          "base_uri": "https://localhost:8080/"
        },
        "id": "RcJSOflCuYfm",
        "outputId": "3660a4f7-bce8-4fe4-d3f8-f319251cca58"
      },
      "outputs": [
        {
          "name": "stdout",
          "output_type": "stream",
          "text": [
            "Looking in indexes: https://pypi.org/simple, https://us-python.pkg.dev/colab-wheels/public/simple/\n",
            "Requirement already satisfied: statsmodels in /usr/local/lib/python3.8/dist-packages (0.13.5)\n",
            "Requirement already satisfied: scipy>=1.3 in /usr/local/lib/python3.8/dist-packages (from statsmodels) (1.7.3)\n",
            "Requirement already satisfied: patsy>=0.5.2 in /usr/local/lib/python3.8/dist-packages (from statsmodels) (0.5.3)\n",
            "Requirement already satisfied: packaging>=21.3 in /usr/local/lib/python3.8/dist-packages (from statsmodels) (21.3)\n",
            "Requirement already satisfied: numpy>=1.17 in /usr/local/lib/python3.8/dist-packages (from statsmodels) (1.21.6)\n",
            "Requirement already satisfied: pandas>=0.25 in /usr/local/lib/python3.8/dist-packages (from statsmodels) (1.3.5)\n",
            "Requirement already satisfied: pyparsing!=3.0.5,>=2.0.2 in /usr/local/lib/python3.8/dist-packages (from packaging>=21.3->statsmodels) (3.0.9)\n",
            "Requirement already satisfied: python-dateutil>=2.7.3 in /usr/local/lib/python3.8/dist-packages (from pandas>=0.25->statsmodels) (2.8.2)\n",
            "Requirement already satisfied: pytz>=2017.3 in /usr/local/lib/python3.8/dist-packages (from pandas>=0.25->statsmodels) (2022.7)\n",
            "Requirement already satisfied: six in /usr/local/lib/python3.8/dist-packages (from patsy>=0.5.2->statsmodels) (1.15.0)\n",
            "Looking in indexes: https://pypi.org/simple, https://us-python.pkg.dev/colab-wheels/public/simple/\n",
            "Requirement already satisfied: pmdarima in /usr/local/lib/python3.8/dist-packages (2.0.2)\n",
            "Requirement already satisfied: scipy>=1.3.2 in /usr/local/lib/python3.8/dist-packages (from pmdarima) (1.7.3)\n",
            "Requirement already satisfied: joblib>=0.11 in /usr/local/lib/python3.8/dist-packages (from pmdarima) (1.2.0)\n",
            "Requirement already satisfied: pandas>=0.19 in /usr/local/lib/python3.8/dist-packages (from pmdarima) (1.3.5)\n",
            "Requirement already satisfied: statsmodels>=0.13.2 in /usr/local/lib/python3.8/dist-packages (from pmdarima) (0.13.5)\n",
            "Requirement already satisfied: Cython!=0.29.18,!=0.29.31,>=0.29 in /usr/local/lib/python3.8/dist-packages (from pmdarima) (0.29.33)\n",
            "Requirement already satisfied: scikit-learn>=0.22 in /usr/local/lib/python3.8/dist-packages (from pmdarima) (1.0.2)\n",
            "Requirement already satisfied: setuptools!=50.0.0,>=38.6.0 in /usr/local/lib/python3.8/dist-packages (from pmdarima) (57.4.0)\n",
            "Requirement already satisfied: urllib3 in /usr/local/lib/python3.8/dist-packages (from pmdarima) (1.24.3)\n",
            "Requirement already satisfied: numpy>=1.21.2 in /usr/local/lib/python3.8/dist-packages (from pmdarima) (1.21.6)\n",
            "Requirement already satisfied: pytz>=2017.3 in /usr/local/lib/python3.8/dist-packages (from pandas>=0.19->pmdarima) (2022.7)\n",
            "Requirement already satisfied: python-dateutil>=2.7.3 in /usr/local/lib/python3.8/dist-packages (from pandas>=0.19->pmdarima) (2.8.2)\n",
            "Requirement already satisfied: threadpoolctl>=2.0.0 in /usr/local/lib/python3.8/dist-packages (from scikit-learn>=0.22->pmdarima) (3.1.0)\n",
            "Requirement already satisfied: packaging>=21.3 in /usr/local/lib/python3.8/dist-packages (from statsmodels>=0.13.2->pmdarima) (21.3)\n",
            "Requirement already satisfied: patsy>=0.5.2 in /usr/local/lib/python3.8/dist-packages (from statsmodels>=0.13.2->pmdarima) (0.5.3)\n",
            "Requirement already satisfied: pyparsing!=3.0.5,>=2.0.2 in /usr/local/lib/python3.8/dist-packages (from packaging>=21.3->statsmodels>=0.13.2->pmdarima) (3.0.9)\n",
            "Requirement already satisfied: six in /usr/local/lib/python3.8/dist-packages (from patsy>=0.5.2->statsmodels>=0.13.2->pmdarima) (1.15.0)\n"
          ]
        }
      ],
      "source": [
        "# Importar librerias\n",
        "!pip install statsmodels\n",
        "!pip install pmdarima\n",
        "import pandas as pd\n",
        "import numpy as np \n",
        "import matplotlib.pyplot as plt\n",
        "import seaborn as sns\n",
        "import statsmodels.api as sm\n",
        "from statsmodels.tsa.stattools import adfuller\n",
        "from sklearn.model_selection import train_test_split\n",
        "from statsmodels.graphics.tsaplots import plot_acf\n",
        "from statsmodels.tsa.stattools import acf\n",
        "from statsmodels.graphics.tsaplots import plot_pacf\n",
        "from pandas.plotting import autocorrelation_plot\n",
        "from pmdarima.arima import auto_arima"
      ]
    },
    {
      "cell_type": "code",
      "execution_count": 3,
      "metadata": {
        "colab": {
          "base_uri": "https://localhost:8080/"
        },
        "id": "V3fJA9v9w23q",
        "outputId": "465aec8d-3585-4e4f-df04-806e644fac77"
      },
      "outputs": [
        {
          "name": "stdout",
          "output_type": "stream",
          "text": [
            "Drive already mounted at /content/drive; to attempt to forcibly remount, call drive.mount(\"/content/drive\", force_remount=True).\n"
          ]
        }
      ],
      "source": [
        "from google.colab import drive\n",
        "drive.mount('/content/drive')"
      ]
    },
    {
      "cell_type": "markdown",
      "metadata": {
        "id": "HGM4ZMoruYfw"
      },
      "source": [
        "## **Lectura de datos**"
      ]
    },
    {
      "cell_type": "code",
      "execution_count": 4,
      "metadata": {
        "colab": {
          "base_uri": "https://localhost:8080/",
          "height": 455
        },
        "id": "atQHvkdkuYfx",
        "outputId": "79cccdb9-4a7a-4113-e6de-cd1d4819d678"
      },
      "outputs": [
        {
          "data": {
            "text/html": [
              "\n",
              "  <div id=\"df-45d5a3dd-cc47-4a1b-bbc3-f41e0a1bd33a\">\n",
              "    <div class=\"colab-df-container\">\n",
              "      <div>\n",
              "<style scoped>\n",
              "    .dataframe tbody tr th:only-of-type {\n",
              "        vertical-align: middle;\n",
              "    }\n",
              "\n",
              "    .dataframe tbody tr th {\n",
              "        vertical-align: top;\n",
              "    }\n",
              "\n",
              "    .dataframe thead th {\n",
              "        text-align: right;\n",
              "    }\n",
              "</style>\n",
              "<table border=\"1\" class=\"dataframe\">\n",
              "  <thead>\n",
              "    <tr style=\"text-align: right;\">\n",
              "      <th></th>\n",
              "      <th>Devengado</th>\n",
              "    </tr>\n",
              "    <tr>\n",
              "      <th>Tiempo</th>\n",
              "      <th></th>\n",
              "    </tr>\n",
              "  </thead>\n",
              "  <tbody>\n",
              "    <tr>\n",
              "      <th>1999-03-31</th>\n",
              "      <td>5556160646</td>\n",
              "    </tr>\n",
              "    <tr>\n",
              "      <th>1999-06-30</th>\n",
              "      <td>6423105672</td>\n",
              "    </tr>\n",
              "    <tr>\n",
              "      <th>1999-09-30</th>\n",
              "      <td>7828654515</td>\n",
              "    </tr>\n",
              "    <tr>\n",
              "      <th>1999-12-31</th>\n",
              "      <td>7445509920</td>\n",
              "    </tr>\n",
              "    <tr>\n",
              "      <th>2000-03-31</th>\n",
              "      <td>6652633175</td>\n",
              "    </tr>\n",
              "    <tr>\n",
              "      <th>...</th>\n",
              "      <td>...</td>\n",
              "    </tr>\n",
              "    <tr>\n",
              "      <th>2021-12-31</th>\n",
              "      <td>63762340672</td>\n",
              "    </tr>\n",
              "    <tr>\n",
              "      <th>2022-03-31</th>\n",
              "      <td>41459682458</td>\n",
              "    </tr>\n",
              "    <tr>\n",
              "      <th>2022-06-30</th>\n",
              "      <td>44913442501</td>\n",
              "    </tr>\n",
              "    <tr>\n",
              "      <th>2022-09-30</th>\n",
              "      <td>54977651771</td>\n",
              "    </tr>\n",
              "    <tr>\n",
              "      <th>2022-12-31</th>\n",
              "      <td>68591179620</td>\n",
              "    </tr>\n",
              "  </tbody>\n",
              "</table>\n",
              "<p>96 rows × 1 columns</p>\n",
              "</div>\n",
              "      <button class=\"colab-df-convert\" onclick=\"convertToInteractive('df-45d5a3dd-cc47-4a1b-bbc3-f41e0a1bd33a')\"\n",
              "              title=\"Convert this dataframe to an interactive table.\"\n",
              "              style=\"display:none;\">\n",
              "        \n",
              "  <svg xmlns=\"http://www.w3.org/2000/svg\" height=\"24px\"viewBox=\"0 0 24 24\"\n",
              "       width=\"24px\">\n",
              "    <path d=\"M0 0h24v24H0V0z\" fill=\"none\"/>\n",
              "    <path d=\"M18.56 5.44l.94 2.06.94-2.06 2.06-.94-2.06-.94-.94-2.06-.94 2.06-2.06.94zm-11 1L8.5 8.5l.94-2.06 2.06-.94-2.06-.94L8.5 2.5l-.94 2.06-2.06.94zm10 10l.94 2.06.94-2.06 2.06-.94-2.06-.94-.94-2.06-.94 2.06-2.06.94z\"/><path d=\"M17.41 7.96l-1.37-1.37c-.4-.4-.92-.59-1.43-.59-.52 0-1.04.2-1.43.59L10.3 9.45l-7.72 7.72c-.78.78-.78 2.05 0 2.83L4 21.41c.39.39.9.59 1.41.59.51 0 1.02-.2 1.41-.59l7.78-7.78 2.81-2.81c.8-.78.8-2.07 0-2.86zM5.41 20L4 18.59l7.72-7.72 1.47 1.35L5.41 20z\"/>\n",
              "  </svg>\n",
              "      </button>\n",
              "      \n",
              "  <style>\n",
              "    .colab-df-container {\n",
              "      display:flex;\n",
              "      flex-wrap:wrap;\n",
              "      gap: 12px;\n",
              "    }\n",
              "\n",
              "    .colab-df-convert {\n",
              "      background-color: #E8F0FE;\n",
              "      border: none;\n",
              "      border-radius: 50%;\n",
              "      cursor: pointer;\n",
              "      display: none;\n",
              "      fill: #1967D2;\n",
              "      height: 32px;\n",
              "      padding: 0 0 0 0;\n",
              "      width: 32px;\n",
              "    }\n",
              "\n",
              "    .colab-df-convert:hover {\n",
              "      background-color: #E2EBFA;\n",
              "      box-shadow: 0px 1px 2px rgba(60, 64, 67, 0.3), 0px 1px 3px 1px rgba(60, 64, 67, 0.15);\n",
              "      fill: #174EA6;\n",
              "    }\n",
              "\n",
              "    [theme=dark] .colab-df-convert {\n",
              "      background-color: #3B4455;\n",
              "      fill: #D2E3FC;\n",
              "    }\n",
              "\n",
              "    [theme=dark] .colab-df-convert:hover {\n",
              "      background-color: #434B5C;\n",
              "      box-shadow: 0px 1px 3px 1px rgba(0, 0, 0, 0.15);\n",
              "      filter: drop-shadow(0px 1px 2px rgba(0, 0, 0, 0.3));\n",
              "      fill: #FFFFFF;\n",
              "    }\n",
              "  </style>\n",
              "\n",
              "      <script>\n",
              "        const buttonEl =\n",
              "          document.querySelector('#df-45d5a3dd-cc47-4a1b-bbc3-f41e0a1bd33a button.colab-df-convert');\n",
              "        buttonEl.style.display =\n",
              "          google.colab.kernel.accessAllowed ? 'block' : 'none';\n",
              "\n",
              "        async function convertToInteractive(key) {\n",
              "          const element = document.querySelector('#df-45d5a3dd-cc47-4a1b-bbc3-f41e0a1bd33a');\n",
              "          const dataTable =\n",
              "            await google.colab.kernel.invokeFunction('convertToInteractive',\n",
              "                                                     [key], {});\n",
              "          if (!dataTable) return;\n",
              "\n",
              "          const docLinkHtml = 'Like what you see? Visit the ' +\n",
              "            '<a target=\"_blank\" href=https://colab.research.google.com/notebooks/data_table.ipynb>data table notebook</a>'\n",
              "            + ' to learn more about interactive tables.';\n",
              "          element.innerHTML = '';\n",
              "          dataTable['output_type'] = 'display_data';\n",
              "          await google.colab.output.renderOutput(dataTable, element);\n",
              "          const docLink = document.createElement('div');\n",
              "          docLink.innerHTML = docLinkHtml;\n",
              "          element.appendChild(docLink);\n",
              "        }\n",
              "      </script>\n",
              "    </div>\n",
              "  </div>\n",
              "  "
            ],
            "text/plain": [
              "              Devengado\n",
              "Tiempo                 \n",
              "1999-03-31   5556160646\n",
              "1999-06-30   6423105672\n",
              "1999-09-30   7828654515\n",
              "1999-12-31   7445509920\n",
              "2000-03-31   6652633175\n",
              "...                 ...\n",
              "2021-12-31  63762340672\n",
              "2022-03-31  41459682458\n",
              "2022-06-30  44913442501\n",
              "2022-09-30  54977651771\n",
              "2022-12-31  68591179620\n",
              "\n",
              "[96 rows x 1 columns]"
            ]
          },
          "execution_count": 4,
          "metadata": {},
          "output_type": "execute_result"
        }
      ],
      "source": [
        "ts = pd.read_excel(\"/content/drive/MyDrive/Serie_de_Tiempo_Devengado_MEF_2023/Devengado.xlsx\",index_col=0)\n",
        "ts"
      ]
    },
    {
      "cell_type": "markdown",
      "metadata": {
        "id": "mShdLxGEuYfx"
      },
      "source": [
        "## **Partición de los datos**"
      ]
    },
    {
      "cell_type": "code",
      "execution_count": 5,
      "metadata": {
        "id": "UGkC0AqQuYfy"
      },
      "outputs": [],
      "source": [
        "# Divida el DataFrame en conjuntos de entrenamiento y prueba\n",
        "ts_train, ts_test = train_test_split(ts, test_size=0.2, shuffle=False)"
      ]
    },
    {
      "cell_type": "markdown",
      "metadata": {
        "id": "qvM5JbSMuYfz"
      },
      "source": [
        "## **Análisis Estadístico de los datos**"
      ]
    },
    {
      "cell_type": "code",
      "execution_count": 6,
      "metadata": {
        "colab": {
          "base_uri": "https://localhost:8080/",
          "height": 300
        },
        "id": "aRUZiXOjuYfz",
        "outputId": "2bd64e63-7f3a-4fb9-81d9-67517e52ff2a"
      },
      "outputs": [
        {
          "data": {
            "text/html": [
              "\n",
              "  <div id=\"df-190780a2-d60c-4f09-94d8-69a42d6cc9af\">\n",
              "    <div class=\"colab-df-container\">\n",
              "      <div>\n",
              "<style scoped>\n",
              "    .dataframe tbody tr th:only-of-type {\n",
              "        vertical-align: middle;\n",
              "    }\n",
              "\n",
              "    .dataframe tbody tr th {\n",
              "        vertical-align: top;\n",
              "    }\n",
              "\n",
              "    .dataframe thead th {\n",
              "        text-align: right;\n",
              "    }\n",
              "</style>\n",
              "<table border=\"1\" class=\"dataframe\">\n",
              "  <thead>\n",
              "    <tr style=\"text-align: right;\">\n",
              "      <th></th>\n",
              "      <th>Devengado</th>\n",
              "    </tr>\n",
              "  </thead>\n",
              "  <tbody>\n",
              "    <tr>\n",
              "      <th>count</th>\n",
              "      <td>7.600000e+01</td>\n",
              "    </tr>\n",
              "    <tr>\n",
              "      <th>mean</th>\n",
              "      <td>1.926093e+10</td>\n",
              "    </tr>\n",
              "    <tr>\n",
              "      <th>std</th>\n",
              "      <td>1.093636e+10</td>\n",
              "    </tr>\n",
              "    <tr>\n",
              "      <th>min</th>\n",
              "      <td>5.556161e+09</td>\n",
              "    </tr>\n",
              "    <tr>\n",
              "      <th>25%</th>\n",
              "      <td>1.015316e+10</td>\n",
              "    </tr>\n",
              "    <tr>\n",
              "      <th>50%</th>\n",
              "      <td>1.737009e+10</td>\n",
              "    </tr>\n",
              "    <tr>\n",
              "      <th>75%</th>\n",
              "      <td>2.650542e+10</td>\n",
              "    </tr>\n",
              "    <tr>\n",
              "      <th>max</th>\n",
              "      <td>4.674538e+10</td>\n",
              "    </tr>\n",
              "  </tbody>\n",
              "</table>\n",
              "</div>\n",
              "      <button class=\"colab-df-convert\" onclick=\"convertToInteractive('df-190780a2-d60c-4f09-94d8-69a42d6cc9af')\"\n",
              "              title=\"Convert this dataframe to an interactive table.\"\n",
              "              style=\"display:none;\">\n",
              "        \n",
              "  <svg xmlns=\"http://www.w3.org/2000/svg\" height=\"24px\"viewBox=\"0 0 24 24\"\n",
              "       width=\"24px\">\n",
              "    <path d=\"M0 0h24v24H0V0z\" fill=\"none\"/>\n",
              "    <path d=\"M18.56 5.44l.94 2.06.94-2.06 2.06-.94-2.06-.94-.94-2.06-.94 2.06-2.06.94zm-11 1L8.5 8.5l.94-2.06 2.06-.94-2.06-.94L8.5 2.5l-.94 2.06-2.06.94zm10 10l.94 2.06.94-2.06 2.06-.94-2.06-.94-.94-2.06-.94 2.06-2.06.94z\"/><path d=\"M17.41 7.96l-1.37-1.37c-.4-.4-.92-.59-1.43-.59-.52 0-1.04.2-1.43.59L10.3 9.45l-7.72 7.72c-.78.78-.78 2.05 0 2.83L4 21.41c.39.39.9.59 1.41.59.51 0 1.02-.2 1.41-.59l7.78-7.78 2.81-2.81c.8-.78.8-2.07 0-2.86zM5.41 20L4 18.59l7.72-7.72 1.47 1.35L5.41 20z\"/>\n",
              "  </svg>\n",
              "      </button>\n",
              "      \n",
              "  <style>\n",
              "    .colab-df-container {\n",
              "      display:flex;\n",
              "      flex-wrap:wrap;\n",
              "      gap: 12px;\n",
              "    }\n",
              "\n",
              "    .colab-df-convert {\n",
              "      background-color: #E8F0FE;\n",
              "      border: none;\n",
              "      border-radius: 50%;\n",
              "      cursor: pointer;\n",
              "      display: none;\n",
              "      fill: #1967D2;\n",
              "      height: 32px;\n",
              "      padding: 0 0 0 0;\n",
              "      width: 32px;\n",
              "    }\n",
              "\n",
              "    .colab-df-convert:hover {\n",
              "      background-color: #E2EBFA;\n",
              "      box-shadow: 0px 1px 2px rgba(60, 64, 67, 0.3), 0px 1px 3px 1px rgba(60, 64, 67, 0.15);\n",
              "      fill: #174EA6;\n",
              "    }\n",
              "\n",
              "    [theme=dark] .colab-df-convert {\n",
              "      background-color: #3B4455;\n",
              "      fill: #D2E3FC;\n",
              "    }\n",
              "\n",
              "    [theme=dark] .colab-df-convert:hover {\n",
              "      background-color: #434B5C;\n",
              "      box-shadow: 0px 1px 3px 1px rgba(0, 0, 0, 0.15);\n",
              "      filter: drop-shadow(0px 1px 2px rgba(0, 0, 0, 0.3));\n",
              "      fill: #FFFFFF;\n",
              "    }\n",
              "  </style>\n",
              "\n",
              "      <script>\n",
              "        const buttonEl =\n",
              "          document.querySelector('#df-190780a2-d60c-4f09-94d8-69a42d6cc9af button.colab-df-convert');\n",
              "        buttonEl.style.display =\n",
              "          google.colab.kernel.accessAllowed ? 'block' : 'none';\n",
              "\n",
              "        async function convertToInteractive(key) {\n",
              "          const element = document.querySelector('#df-190780a2-d60c-4f09-94d8-69a42d6cc9af');\n",
              "          const dataTable =\n",
              "            await google.colab.kernel.invokeFunction('convertToInteractive',\n",
              "                                                     [key], {});\n",
              "          if (!dataTable) return;\n",
              "\n",
              "          const docLinkHtml = 'Like what you see? Visit the ' +\n",
              "            '<a target=\"_blank\" href=https://colab.research.google.com/notebooks/data_table.ipynb>data table notebook</a>'\n",
              "            + ' to learn more about interactive tables.';\n",
              "          element.innerHTML = '';\n",
              "          dataTable['output_type'] = 'display_data';\n",
              "          await google.colab.output.renderOutput(dataTable, element);\n",
              "          const docLink = document.createElement('div');\n",
              "          docLink.innerHTML = docLinkHtml;\n",
              "          element.appendChild(docLink);\n",
              "        }\n",
              "      </script>\n",
              "    </div>\n",
              "  </div>\n",
              "  "
            ],
            "text/plain": [
              "          Devengado\n",
              "count  7.600000e+01\n",
              "mean   1.926093e+10\n",
              "std    1.093636e+10\n",
              "min    5.556161e+09\n",
              "25%    1.015316e+10\n",
              "50%    1.737009e+10\n",
              "75%    2.650542e+10\n",
              "max    4.674538e+10"
            ]
          },
          "execution_count": 6,
          "metadata": {},
          "output_type": "execute_result"
        }
      ],
      "source": [
        "# Estadísticas básicas\n",
        "ts_train.describe()"
      ]
    },
    {
      "cell_type": "code",
      "execution_count": 7,
      "metadata": {
        "colab": {
          "base_uri": "https://localhost:8080/",
          "height": 573
        },
        "id": "NMM9_o7KuYf0",
        "outputId": "305613a7-55dd-4e42-eeb6-fea21b3c584f"
      },
      "outputs": [
        {
          "data": {
            "image/png": "[encoded data removed]",
            "text/plain": [
              "<Figure size 432x288 with 1 Axes>"
            ]
          },
          "metadata": {
            "needs_background": "light"
          },
          "output_type": "display_data"
        },
        {
          "data": {
            "image/png": "[encoded data removed]",
            "text/plain": [
              "<Figure size 432x288 with 1 Axes>"
            ]
          },
          "metadata": {
            "needs_background": "light"
          },
          "output_type": "display_data"
        }
      ],
      "source": [
        "# Grafico de Histograma y Box-Plot \n",
        "\n",
        "sns.histplot(ts_train.Devengado, kde=True)\n",
        "plt.title(\"Histograma\")\n",
        "plt.xlabel('Devengado')\n",
        "plt.grid(axis='y', linestyle='dashdot', linewidth=1)\n",
        "plt.show()\n",
        "\n",
        "plt.boxplot(ts_train.Devengado, vert=True,showfliers=True)\n",
        "plt.title(\"Gráfico de caja y bigote\")\n",
        "plt.xlabel(\"Distribución\")\n",
        "plt.ylabel(\"Valor\")\n",
        "plt.show()\n",
        "\n",
        "\n"
      ]
    },
    {
      "cell_type": "markdown",
      "metadata": {
        "id": "YVA5JU9zuYf0"
      },
      "source": [
        "> No se observan posibles valores atípicos, sin embargo se observa asimetría positiva, por lo tanto, en la mayoría de los trimestres se devenga una menor cantidad con respecto a los otros trimestres."
      ]
    },
    {
      "cell_type": "markdown",
      "metadata": {
        "id": "tcrmvRq0uYf0"
      },
      "source": [
        "## **Gráfico de la serie**"
      ]
    },
    {
      "cell_type": "code",
      "execution_count": 8,
      "metadata": {
        "colab": {
          "base_uri": "https://localhost:8080/",
          "height": 305
        },
        "id": "vdSkjMwuuYf1",
        "outputId": "d59fff20-10b5-48ed-9a7e-872c08893da9"
      },
      "outputs": [
        {
          "data": {
            "image/png": "[encoded data removed]",
            "text/plain": [
              "<Figure size 1368x288 with 1 Axes>"
            ]
          },
          "metadata": {
            "needs_background": "light"
          },
          "output_type": "display_data"
        }
      ],
      "source": [
        "# Gráfico de la serie\n",
        "plt.figure(figsize=(19,4))\n",
        "plt.plot(ts_train)\n",
        "plt.grid(axis='y', linestyle='dashdot', linewidth=1)\n",
        "plt.xlabel(\"Años\")\n",
        "plt.ylabel(\"Devengado\")\n",
        "plt.title(r\"Devengado del gasto en trimestre 1999-\"+str(ts_train.index[-1].year))\n",
        "plt.figtext(0.85, -0.009, \"Fuente: MEF\")\n",
        "plt.show()"
      ]
    },
    {
      "cell_type": "markdown",
      "metadata": {
        "id": "I0ZS-EfFuYf1"
      },
      "source": [
        "> Se observa tendencia positiva, y variabilidad con respecto al transcurso del tiempo. Esto indicaría que la serie no es estacionaria en media ni en varianza"
      ]
    },
    {
      "cell_type": "markdown",
      "metadata": {
        "id": "VI2q-EziuYf1"
      },
      "source": [
        "## **Verificación de Estacionariedad**"
      ]
    },
    {
      "cell_type": "markdown",
      "metadata": {
        "id": "19HNswGtuYf2"
      },
      "source": [
        "### **Prueba Dickey-Fuller**"
      ]
    },
    {
      "cell_type": "code",
      "execution_count": 9,
      "metadata": {
        "colab": {
          "base_uri": "https://localhost:8080/"
        },
        "id": "-WhP6EfEuYf2",
        "outputId": "bc083b17-1aa8-488e-99a1-52383957eee2"
      },
      "outputs": [
        {
          "name": "stdout",
          "output_type": "stream",
          "text": [
            "ADF Statistic: 3.003354\n",
            "p-value: 1.000000\n",
            "Critical Values:\n",
            "\t1%: -3.525\n",
            "\t5%: -2.903\n",
            "\t10%: -2.589\n"
          ]
        }
      ],
      "source": [
        "Prueba_DF = adfuller(ts_train)\n",
        "print('ADF Statistic: %f' % Prueba_DF[0])\n",
        "print('p-value: %f' % Prueba_DF[1])\n",
        "print('Critical Values:')\n",
        "for key, value in Prueba_DF[4].items():\n",
        "  print('\\t%s: %.3f' % (key, value))"
      ]
    },
    {
      "cell_type": "markdown",
      "metadata": {
        "id": "B88kN9MkuYf2"
      },
      "source": [
        "### **Gráfico de la ACF**"
      ]
    },
    {
      "cell_type": "code",
      "execution_count": 10,
      "metadata": {
        "colab": {
          "base_uri": "https://localhost:8080/",
          "height": 549
        },
        "id": "x6Jd_FRWuYf3",
        "outputId": "eda441a9-6454-461b-a1eb-6d1438ff90e4"
      },
      "outputs": [
        {
          "data": {
            "image/png": "[encoded data removed]",
            "text/plain": [
              "<Figure size 576x288 with 1 Axes>"
            ]
          },
          "metadata": {
            "needs_background": "light"
          },
          "output_type": "display_data"
        },
        {
          "data": {
            "image/png": "[encoded data removed]",
            "text/plain": [
              "<Figure size 576x288 with 1 Axes>"
            ]
          },
          "metadata": {
            "needs_background": "light"
          },
          "output_type": "display_data"
        }
      ],
      "source": [
        "alpha = 0.05\n",
        "fig, ax = plt.subplots(figsize=(8,4))\n",
        "fig = plot_acf(ts_train, ax=ax, alpha=alpha, lags=50, title=None)\n",
        "plt.xlabel('Retraso')\n",
        "plt.ylabel('Autocorrelación')\n",
        "plt.grid(axis='y', linestyle='dashdot', linewidth=1)\n",
        "plt.annotate(\"IC del \" + str(100*(1-alpha)) + \"% para la nulidad de la autocorrelación\", xy=(30,0.8))\n",
        "plt.show()\n",
        "\n",
        "plt.figure(figsize=(8,4))\n",
        "autocorrelation_plot(ts_train)\n",
        "plt.show()"
      ]
    },
    {
      "cell_type": "markdown",
      "metadata": {
        "id": "EJp2GDrouYf3"
      },
      "source": [
        "### **Gráfico del Variograma**"
      ]
    },
    {
      "cell_type": "code",
      "execution_count": 11,
      "metadata": {
        "colab": {
          "base_uri": "https://localhost:8080/",
          "height": 948
        },
        "id": "EcB82d2quYf3",
        "outputId": "b7ce3647-c5b4-4fa3-ded8-1ffc4b2d0296"
      },
      "outputs": [
        {
          "name": "stdout",
          "output_type": "stream",
          "text": [
            "[ 1.          0.80007584  0.74394662  0.73934324  0.86299213  0.68039951\n",
            "  0.62668013  0.61915757  0.73165964  0.55187854  0.49734484  0.48440565\n",
            "  0.58127623  0.42299253  0.36519094  0.35037919  0.42271664  0.29091742\n",
            "  0.24048492  0.22408658  0.28114546  0.16771737  0.12257392  0.10743953\n",
            "  0.14727456  0.05569306  0.0115781  -0.00424847  0.02186063 -0.05119006\n",
            " -0.09345999 -0.11376571 -0.09687336 -0.15781189 -0.19245043 -0.20844914\n",
            " -0.19626799 -0.23881808 -0.26822485 -0.2798037  -0.26833838 -0.30539663\n",
            " -0.32363577 -0.33283113 -0.31109075 -0.33946692 -0.35007369 -0.35514163\n",
            " -0.33014164 -0.35090368 -0.35864723 -0.36285977 -0.33621134 -0.349145\n",
            " -0.35379268 -0.35613314 -0.32542396 -0.33407491 -0.33358247 -0.32962401\n",
            " -0.29881982 -0.30063635 -0.29545127 -0.28222895 -0.24254202 -0.24144433\n",
            " -0.23301961 -0.21947887 -0.17869798 -0.16834404 -0.15469717 -0.13552622\n",
            " -0.0995434  -0.08372625 -0.0676513  -0.04152482]\n",
            "76\n"
          ]
        },
        {
          "data": {
            "image/png": "[encoded data removed]",
            "text/plain": [
              "<Figure size 576x288 with 1 Axes>"
            ]
          },
          "metadata": {
            "needs_background": "light"
          },
          "output_type": "display_data"
        }
      ],
      "source": [
        "v_acf = acf(ts_train, fft=False, nlags=96)\n",
        "print(v_acf)\n",
        "print(len(v_acf))\n",
        "\n",
        "l = []\n",
        "G = []\n",
        "asin = []\n",
        "for i in range(1,len(ts_train)):\n",
        "  l.append(i)\n",
        "  G.append((1-v_acf[i])/(1-v_acf[1]))\n",
        "  asin.append(1/(1-v_acf[1]))\n",
        "\n",
        "plt.figure(figsize=(8,4))\n",
        "plt.scatter(x=l, y=G)\n",
        "plt.plot(asin, color=\"brown\")\n",
        "plt.xlabel('Retrasos')\n",
        "plt.ylabel('Variograma (Gk)')\n",
        "plt.grid(axis='y', linestyle='dashdot', linewidth=1)\n",
        "plt.annotate(r\"Asíntota en $1/(1-\\rho_1)$\", xy=(30,20))\n",
        "plt.show()"
      ]
    },
    {
      "cell_type": "markdown",
      "metadata": {
        "id": "dVMHxqGOuYf4"
      },
      "source": [
        "> Según el test Dickey-Fuller y los gráficos corroboramos que la serie no es estacionaria."
      ]
    },
    {
      "cell_type": "markdown",
      "metadata": {
        "id": "YLmazqUduYf4"
      },
      "source": [
        "## **Estabilizando la variabilidad**"
      ]
    },
    {
      "cell_type": "markdown",
      "metadata": {
        "id": "pXjOLG_ZuYf4"
      },
      "source": [
        "### **Transformación Box-Cox**"
      ]
    },
    {
      "cell_type": "code",
      "execution_count": 12,
      "metadata": {
        "colab": {
          "base_uri": "https://localhost:8080/",
          "height": 979
        },
        "id": "G6knokgcuYf4",
        "outputId": "f8832533-46cf-49c2-c38f-62786b4c3642"
      },
      "outputs": [
        {
          "data": {
            "text/html": [
              "\n",
              "  <div id=\"df-8e18b43c-8886-4f96-9b45-48988ca5c1cb\">\n",
              "    <div class=\"colab-df-container\">\n",
              "      <div>\n",
              "<style scoped>\n",
              "    .dataframe tbody tr th:only-of-type {\n",
              "        vertical-align: middle;\n",
              "    }\n",
              "\n",
              "    .dataframe tbody tr th {\n",
              "        vertical-align: top;\n",
              "    }\n",
              "\n",
              "    .dataframe thead th {\n",
              "        text-align: right;\n",
              "    }\n",
              "</style>\n",
              "<table border=\"1\" class=\"dataframe\">\n",
              "  <thead>\n",
              "    <tr style=\"text-align: right;\">\n",
              "      <th></th>\n",
              "      <th>Devengado</th>\n",
              "      <th>Devengado_BC</th>\n",
              "    </tr>\n",
              "    <tr>\n",
              "      <th>Tiempo</th>\n",
              "      <th></th>\n",
              "      <th></th>\n",
              "    </tr>\n",
              "  </thead>\n",
              "  <tbody>\n",
              "    <tr>\n",
              "      <th>1999-03-31</th>\n",
              "      <td>5556160646</td>\n",
              "      <td>12.589807</td>\n",
              "    </tr>\n",
              "    <tr>\n",
              "      <th>1999-06-30</th>\n",
              "      <td>6423105672</td>\n",
              "      <td>12.629426</td>\n",
              "    </tr>\n",
              "    <tr>\n",
              "      <th>1999-09-30</th>\n",
              "      <td>7828654515</td>\n",
              "      <td>12.682965</td>\n",
              "    </tr>\n",
              "    <tr>\n",
              "      <th>1999-12-31</th>\n",
              "      <td>7445509920</td>\n",
              "      <td>12.669447</td>\n",
              "    </tr>\n",
              "    <tr>\n",
              "      <th>2000-03-31</th>\n",
              "      <td>6652633175</td>\n",
              "      <td>12.638970</td>\n",
              "    </tr>\n",
              "    <tr>\n",
              "      <th>...</th>\n",
              "      <td>...</td>\n",
              "      <td>...</td>\n",
              "    </tr>\n",
              "    <tr>\n",
              "      <th>2016-12-31</th>\n",
              "      <td>42988516970</td>\n",
              "      <td>13.119365</td>\n",
              "    </tr>\n",
              "    <tr>\n",
              "      <th>2017-03-31</th>\n",
              "      <td>31701415874</td>\n",
              "      <td>13.044436</td>\n",
              "    </tr>\n",
              "    <tr>\n",
              "      <th>2017-06-30</th>\n",
              "      <td>33760658159</td>\n",
              "      <td>13.060027</td>\n",
              "    </tr>\n",
              "    <tr>\n",
              "      <th>2017-09-30</th>\n",
              "      <td>38081065513</td>\n",
              "      <td>13.089702</td>\n",
              "    </tr>\n",
              "    <tr>\n",
              "      <th>2017-12-31</th>\n",
              "      <td>46440533243</td>\n",
              "      <td>13.138159</td>\n",
              "    </tr>\n",
              "  </tbody>\n",
              "</table>\n",
              "<p>76 rows × 2 columns</p>\n",
              "</div>\n",
              "      <button class=\"colab-df-convert\" onclick=\"convertToInteractive('df-8e18b43c-8886-4f96-9b45-48988ca5c1cb')\"\n",
              "              title=\"Convert this dataframe to an interactive table.\"\n",
              "              style=\"display:none;\">\n",
              "        \n",
              "  <svg xmlns=\"http://www.w3.org/2000/svg\" height=\"24px\"viewBox=\"0 0 24 24\"\n",
              "       width=\"24px\">\n",
              "    <path d=\"M0 0h24v24H0V0z\" fill=\"none\"/>\n",
              "    <path d=\"M18.56 5.44l.94 2.06.94-2.06 2.06-.94-2.06-.94-.94-2.06-.94 2.06-2.06.94zm-11 1L8.5 8.5l.94-2.06 2.06-.94-2.06-.94L8.5 2.5l-.94 2.06-2.06.94zm10 10l.94 2.06.94-2.06 2.06-.94-2.06-.94-.94-2.06-.94 2.06-2.06.94z\"/><path d=\"M17.41 7.96l-1.37-1.37c-.4-.4-.92-.59-1.43-.59-.52 0-1.04.2-1.43.59L10.3 9.45l-7.72 7.72c-.78.78-.78 2.05 0 2.83L4 21.41c.39.39.9.59 1.41.59.51 0 1.02-.2 1.41-.59l7.78-7.78 2.81-2.81c.8-.78.8-2.07 0-2.86zM5.41 20L4 18.59l7.72-7.72 1.47 1.35L5.41 20z\"/>\n",
              "  </svg>\n",
              "      </button>\n",
              "      \n",
              "  <style>\n",
              "    .colab-df-container {\n",
              "      display:flex;\n",
              "      flex-wrap:wrap;\n",
              "      gap: 12px;\n",
              "    }\n",
              "\n",
              "    .colab-df-convert {\n",
              "      background-color: #E8F0FE;\n",
              "      border: none;\n",
              "      border-radius: 50%;\n",
              "      cursor: pointer;\n",
              "      display: none;\n",
              "      fill: #1967D2;\n",
              "      height: 32px;\n",
              "      padding: 0 0 0 0;\n",
              "      width: 32px;\n",
              "    }\n",
              "\n",
              "    .colab-df-convert:hover {\n",
              "      background-color: #E2EBFA;\n",
              "      box-shadow: 0px 1px 2px rgba(60, 64, 67, 0.3), 0px 1px 3px 1px rgba(60, 64, 67, 0.15);\n",
              "      fill: #174EA6;\n",
              "    }\n",
              "\n",
              "    [theme=dark] .colab-df-convert {\n",
              "      background-color: #3B4455;\n",
              "      fill: #D2E3FC;\n",
              "    }\n",
              "\n",
              "    [theme=dark] .colab-df-convert:hover {\n",
              "      background-color: #434B5C;\n",
              "      box-shadow: 0px 1px 3px 1px rgba(0, 0, 0, 0.15);\n",
              "      filter: drop-shadow(0px 1px 2px rgba(0, 0, 0, 0.3));\n",
              "      fill: #FFFFFF;\n",
              "    }\n",
              "  </style>\n",
              "\n",
              "      <script>\n",
              "        const buttonEl =\n",
              "          document.querySelector('#df-8e18b43c-8886-4f96-9b45-48988ca5c1cb button.colab-df-convert');\n",
              "        buttonEl.style.display =\n",
              "          google.colab.kernel.accessAllowed ? 'block' : 'none';\n",
              "\n",
              "        async function convertToInteractive(key) {\n",
              "          const element = document.querySelector('#df-8e18b43c-8886-4f96-9b45-48988ca5c1cb');\n",
              "          const dataTable =\n",
              "            await google.colab.kernel.invokeFunction('convertToInteractive',\n",
              "                                                     [key], {});\n",
              "          if (!dataTable) return;\n",
              "\n",
              "          const docLinkHtml = 'Like what you see? Visit the ' +\n",
              "            '<a target=\"_blank\" href=https://colab.research.google.com/notebooks/data_table.ipynb>data table notebook</a>'\n",
              "            + ' to learn more about interactive tables.';\n",
              "          element.innerHTML = '';\n",
              "          dataTable['output_type'] = 'display_data';\n",
              "          await google.colab.output.renderOutput(dataTable, element);\n",
              "          const docLink = document.createElement('div');\n",
              "          docLink.innerHTML = docLinkHtml;\n",
              "          element.appendChild(docLink);\n",
              "        }\n",
              "      </script>\n",
              "    </div>\n",
              "  </div>\n",
              "  "
            ],
            "text/plain": [
              "              Devengado  Devengado_BC\n",
              "Tiempo                               \n",
              "1999-03-31   5556160646     12.589807\n",
              "1999-06-30   6423105672     12.629426\n",
              "1999-09-30   7828654515     12.682965\n",
              "1999-12-31   7445509920     12.669447\n",
              "2000-03-31   6652633175     12.638970\n",
              "...                 ...           ...\n",
              "2016-12-31  42988516970     13.119365\n",
              "2017-03-31  31701415874     13.044436\n",
              "2017-06-30  33760658159     13.060027\n",
              "2017-09-30  38081065513     13.089702\n",
              "2017-12-31  46440533243     13.138159\n",
              "\n",
              "[76 rows x 2 columns]"
            ]
          },
          "metadata": {},
          "output_type": "display_data"
        },
        {
          "data": {
            "image/png": "[encoded data removed]",
            "text/plain": [
              "<Figure size 576x288 with 1 Axes>"
            ]
          },
          "metadata": {
            "needs_background": "light"
          },
          "output_type": "display_data"
        },
        {
          "data": {
            "image/png": "[encoded data removed]",
            "text/plain": [
              "<Figure size 576x288 with 1 Axes>"
            ]
          },
          "metadata": {
            "needs_background": "light"
          },
          "output_type": "display_data"
        }
      ],
      "source": [
        "# Transformación Box-Cox\n",
        "from scipy.stats import boxcox\n",
        "\n",
        "v_bc, lmbda = boxcox(ts_train.Devengado)\n",
        "ts_train['Devengado_BC'] = v_bc\n",
        "display(ts_train)\n",
        "\n",
        "plt.figure(figsize=(8, 4))\n",
        "plt.plot(ts_train.Devengado_BC)\n",
        "plt.xlabel('Trimestres')\n",
        "plt.ylabel(r\"Serie transformada con $\\lambda=$\"+str(round(lmbda,4)))\n",
        "plt.grid(axis='y', linestyle='dashdot', linewidth=1)\n",
        "plt.show()\n",
        "\n",
        "plt.figure(figsize=(8,4))\n",
        "plt.hist(ts_train.Devengado_BC, density=True)\n",
        "ts_train.Devengado_BC.plot(kind='kde')\n",
        "plt.xlabel('Devengado')\n",
        "plt.grid(axis='y', linestyle='dashdot', linewidth=1)\n",
        "plt.show()"
      ]
    },
    {
      "cell_type": "markdown",
      "metadata": {
        "id": "y8cdcA0RuYf5"
      },
      "source": [
        "## **Eliminar la tendencia**"
      ]
    },
    {
      "cell_type": "code",
      "execution_count": 13,
      "metadata": {
        "colab": {
          "base_uri": "https://localhost:8080/",
          "height": 717
        },
        "id": "YD26Df9nuYf5",
        "outputId": "c80a913d-1638-469d-c4de-93c52b1c0fc2"
      },
      "outputs": [
        {
          "data": {
            "text/html": [
              "\n",
              "  <div id=\"df-00d7124a-33f7-4612-a65b-af2d3b9f9fe1\">\n",
              "    <div class=\"colab-df-container\">\n",
              "      <div>\n",
              "<style scoped>\n",
              "    .dataframe tbody tr th:only-of-type {\n",
              "        vertical-align: middle;\n",
              "    }\n",
              "\n",
              "    .dataframe tbody tr th {\n",
              "        vertical-align: top;\n",
              "    }\n",
              "\n",
              "    .dataframe thead th {\n",
              "        text-align: right;\n",
              "    }\n",
              "</style>\n",
              "<table border=\"1\" class=\"dataframe\">\n",
              "  <thead>\n",
              "    <tr style=\"text-align: right;\">\n",
              "      <th></th>\n",
              "      <th>Devengado</th>\n",
              "      <th>Devengado_BC</th>\n",
              "      <th>Devengado_dif1</th>\n",
              "      <th>Devengado_dif2</th>\n",
              "      <th>Devengado_BC_dif1</th>\n",
              "      <th>Devengado_BC_dif2</th>\n",
              "      <th>Devengado_BC_dif3</th>\n",
              "    </tr>\n",
              "    <tr>\n",
              "      <th>Tiempo</th>\n",
              "      <th></th>\n",
              "      <th></th>\n",
              "      <th></th>\n",
              "      <th></th>\n",
              "      <th></th>\n",
              "      <th></th>\n",
              "      <th></th>\n",
              "    </tr>\n",
              "  </thead>\n",
              "  <tbody>\n",
              "    <tr>\n",
              "      <th>1999-03-31</th>\n",
              "      <td>5556160646</td>\n",
              "      <td>12.589807</td>\n",
              "      <td>NaN</td>\n",
              "      <td>NaN</td>\n",
              "      <td>NaN</td>\n",
              "      <td>NaN</td>\n",
              "      <td>NaN</td>\n",
              "    </tr>\n",
              "    <tr>\n",
              "      <th>1999-06-30</th>\n",
              "      <td>6423105672</td>\n",
              "      <td>12.629426</td>\n",
              "      <td>8.669450e+08</td>\n",
              "      <td>NaN</td>\n",
              "      <td>0.039618</td>\n",
              "      <td>NaN</td>\n",
              "      <td>NaN</td>\n",
              "    </tr>\n",
              "    <tr>\n",
              "      <th>1999-09-30</th>\n",
              "      <td>7828654515</td>\n",
              "      <td>12.682965</td>\n",
              "      <td>1.405549e+09</td>\n",
              "      <td>2.272494e+09</td>\n",
              "      <td>0.053540</td>\n",
              "      <td>0.093158</td>\n",
              "      <td>NaN</td>\n",
              "    </tr>\n",
              "    <tr>\n",
              "      <th>1999-12-31</th>\n",
              "      <td>7445509920</td>\n",
              "      <td>12.669447</td>\n",
              "      <td>-3.831446e+08</td>\n",
              "      <td>1.022404e+09</td>\n",
              "      <td>-0.013519</td>\n",
              "      <td>0.040021</td>\n",
              "      <td>0.079639</td>\n",
              "    </tr>\n",
              "    <tr>\n",
              "      <th>2000-03-31</th>\n",
              "      <td>6652633175</td>\n",
              "      <td>12.638970</td>\n",
              "      <td>-7.928767e+08</td>\n",
              "      <td>-1.176021e+09</td>\n",
              "      <td>-0.030477</td>\n",
              "      <td>-0.043996</td>\n",
              "      <td>0.009544</td>\n",
              "    </tr>\n",
              "    <tr>\n",
              "      <th>...</th>\n",
              "      <td>...</td>\n",
              "      <td>...</td>\n",
              "      <td>...</td>\n",
              "      <td>...</td>\n",
              "      <td>...</td>\n",
              "      <td>...</td>\n",
              "      <td>...</td>\n",
              "    </tr>\n",
              "    <tr>\n",
              "      <th>2016-12-31</th>\n",
              "      <td>42988516970</td>\n",
              "      <td>13.119365</td>\n",
              "      <td>8.829521e+09</td>\n",
              "      <td>1.205607e+10</td>\n",
              "      <td>0.056439</td>\n",
              "      <td>0.081028</td>\n",
              "      <td>0.100972</td>\n",
              "    </tr>\n",
              "    <tr>\n",
              "      <th>2017-03-31</th>\n",
              "      <td>31701415874</td>\n",
              "      <td>13.044436</td>\n",
              "      <td>-1.128710e+10</td>\n",
              "      <td>-2.457580e+09</td>\n",
              "      <td>-0.074929</td>\n",
              "      <td>-0.018490</td>\n",
              "      <td>0.006099</td>\n",
              "    </tr>\n",
              "    <tr>\n",
              "      <th>2017-06-30</th>\n",
              "      <td>33760658159</td>\n",
              "      <td>13.060027</td>\n",
              "      <td>2.059242e+09</td>\n",
              "      <td>-9.227859e+09</td>\n",
              "      <td>0.015591</td>\n",
              "      <td>-0.059338</td>\n",
              "      <td>-0.002900</td>\n",
              "    </tr>\n",
              "    <tr>\n",
              "      <th>2017-09-30</th>\n",
              "      <td>38081065513</td>\n",
              "      <td>13.089702</td>\n",
              "      <td>4.320407e+09</td>\n",
              "      <td>6.379650e+09</td>\n",
              "      <td>0.029675</td>\n",
              "      <td>0.045266</td>\n",
              "      <td>-0.029663</td>\n",
              "    </tr>\n",
              "    <tr>\n",
              "      <th>2017-12-31</th>\n",
              "      <td>46440533243</td>\n",
              "      <td>13.138159</td>\n",
              "      <td>8.359468e+09</td>\n",
              "      <td>1.267988e+10</td>\n",
              "      <td>0.048457</td>\n",
              "      <td>0.078132</td>\n",
              "      <td>0.093723</td>\n",
              "    </tr>\n",
              "  </tbody>\n",
              "</table>\n",
              "<p>76 rows × 7 columns</p>\n",
              "</div>\n",
              "      <button class=\"colab-df-convert\" onclick=\"convertToInteractive('df-00d7124a-33f7-4612-a65b-af2d3b9f9fe1')\"\n",
              "              title=\"Convert this dataframe to an interactive table.\"\n",
              "              style=\"display:none;\">\n",
              "        \n",
              "  <svg xmlns=\"http://www.w3.org/2000/svg\" height=\"24px\"viewBox=\"0 0 24 24\"\n",
              "       width=\"24px\">\n",
              "    <path d=\"M0 0h24v24H0V0z\" fill=\"none\"/>\n",
              "    <path d=\"M18.56 5.44l.94 2.06.94-2.06 2.06-.94-2.06-.94-.94-2.06-.94 2.06-2.06.94zm-11 1L8.5 8.5l.94-2.06 2.06-.94-2.06-.94L8.5 2.5l-.94 2.06-2.06.94zm10 10l.94 2.06.94-2.06 2.06-.94-2.06-.94-.94-2.06-.94 2.06-2.06.94z\"/><path d=\"M17.41 7.96l-1.37-1.37c-.4-.4-.92-.59-1.43-.59-.52 0-1.04.2-1.43.59L10.3 9.45l-7.72 7.72c-.78.78-.78 2.05 0 2.83L4 21.41c.39.39.9.59 1.41.59.51 0 1.02-.2 1.41-.59l7.78-7.78 2.81-2.81c.8-.78.8-2.07 0-2.86zM5.41 20L4 18.59l7.72-7.72 1.47 1.35L5.41 20z\"/>\n",
              "  </svg>\n",
              "      </button>\n",
              "      \n",
              "  <style>\n",
              "    .colab-df-container {\n",
              "      display:flex;\n",
              "      flex-wrap:wrap;\n",
              "      gap: 12px;\n",
              "    }\n",
              "\n",
              "    .colab-df-convert {\n",
              "      background-color: #E8F0FE;\n",
              "      border: none;\n",
              "      border-radius: 50%;\n",
              "      cursor: pointer;\n",
              "      display: none;\n",
              "      fill: #1967D2;\n",
              "      height: 32px;\n",
              "      padding: 0 0 0 0;\n",
              "      width: 32px;\n",
              "    }\n",
              "\n",
              "    .colab-df-convert:hover {\n",
              "      background-color: #E2EBFA;\n",
              "      box-shadow: 0px 1px 2px rgba(60, 64, 67, 0.3), 0px 1px 3px 1px rgba(60, 64, 67, 0.15);\n",
              "      fill: #174EA6;\n",
              "    }\n",
              "\n",
              "    [theme=dark] .colab-df-convert {\n",
              "      background-color: #3B4455;\n",
              "      fill: #D2E3FC;\n",
              "    }\n",
              "\n",
              "    [theme=dark] .colab-df-convert:hover {\n",
              "      background-color: #434B5C;\n",
              "      box-shadow: 0px 1px 3px 1px rgba(0, 0, 0, 0.15);\n",
              "      filter: drop-shadow(0px 1px 2px rgba(0, 0, 0, 0.3));\n",
              "      fill: #FFFFFF;\n",
              "    }\n",
              "  </style>\n",
              "\n",
              "      <script>\n",
              "        const buttonEl =\n",
              "          document.querySelector('#df-00d7124a-33f7-4612-a65b-af2d3b9f9fe1 button.colab-df-convert');\n",
              "        buttonEl.style.display =\n",
              "          google.colab.kernel.accessAllowed ? 'block' : 'none';\n",
              "\n",
              "        async function convertToInteractive(key) {\n",
              "          const element = document.querySelector('#df-00d7124a-33f7-4612-a65b-af2d3b9f9fe1');\n",
              "          const dataTable =\n",
              "            await google.colab.kernel.invokeFunction('convertToInteractive',\n",
              "                                                     [key], {});\n",
              "          if (!dataTable) return;\n",
              "\n",
              "          const docLinkHtml = 'Like what you see? Visit the ' +\n",
              "            '<a target=\"_blank\" href=https://colab.research.google.com/notebooks/data_table.ipynb>data table notebook</a>'\n",
              "            + ' to learn more about interactive tables.';\n",
              "          element.innerHTML = '';\n",
              "          dataTable['output_type'] = 'display_data';\n",
              "          await google.colab.output.renderOutput(dataTable, element);\n",
              "          const docLink = document.createElement('div');\n",
              "          docLink.innerHTML = docLinkHtml;\n",
              "          element.appendChild(docLink);\n",
              "        }\n",
              "      </script>\n",
              "    </div>\n",
              "  </div>\n",
              "  "
            ],
            "text/plain": [
              "              Devengado  Devengado_BC  Devengado_dif1  Devengado_dif2  \\\n",
              "Tiempo                                                                  \n",
              "1999-03-31   5556160646     12.589807             NaN             NaN   \n",
              "1999-06-30   6423105672     12.629426    8.669450e+08             NaN   \n",
              "1999-09-30   7828654515     12.682965    1.405549e+09    2.272494e+09   \n",
              "1999-12-31   7445509920     12.669447   -3.831446e+08    1.022404e+09   \n",
              "2000-03-31   6652633175     12.638970   -7.928767e+08   -1.176021e+09   \n",
              "...                 ...           ...             ...             ...   \n",
              "2016-12-31  42988516970     13.119365    8.829521e+09    1.205607e+10   \n",
              "2017-03-31  31701415874     13.044436   -1.128710e+10   -2.457580e+09   \n",
              "2017-06-30  33760658159     13.060027    2.059242e+09   -9.227859e+09   \n",
              "2017-09-30  38081065513     13.089702    4.320407e+09    6.379650e+09   \n",
              "2017-12-31  46440533243     13.138159    8.359468e+09    1.267988e+10   \n",
              "\n",
              "            Devengado_BC_dif1  Devengado_BC_dif2  Devengado_BC_dif3  \n",
              "Tiempo                                                               \n",
              "1999-03-31                NaN                NaN                NaN  \n",
              "1999-06-30           0.039618                NaN                NaN  \n",
              "1999-09-30           0.053540           0.093158                NaN  \n",
              "1999-12-31          -0.013519           0.040021           0.079639  \n",
              "2000-03-31          -0.030477          -0.043996           0.009544  \n",
              "...                       ...                ...                ...  \n",
              "2016-12-31           0.056439           0.081028           0.100972  \n",
              "2017-03-31          -0.074929          -0.018490           0.006099  \n",
              "2017-06-30           0.015591          -0.059338          -0.002900  \n",
              "2017-09-30           0.029675           0.045266          -0.029663  \n",
              "2017-12-31           0.048457           0.078132           0.093723  \n",
              "\n",
              "[76 rows x 7 columns]"
            ]
          },
          "metadata": {},
          "output_type": "display_data"
        },
        {
          "data": {
            "image/png": "[encoded data removed]",
            "text/plain": [
              "<Figure size 576x288 with 1 Axes>"
            ]
          },
          "metadata": {
            "needs_background": "light"
          },
          "output_type": "display_data"
        }
      ],
      "source": [
        "ts_train['Devengado_dif1'] = ts_train.Devengado.diff()\n",
        "ts_train['Devengado_dif2'] = ts_train.Devengado.diff(2)\n",
        "ts_train['Devengado_BC_dif1'] = ts_train.Devengado_BC.diff()\n",
        "ts_train['Devengado_BC_dif2'] = ts_train.Devengado_BC.diff(2)\n",
        "ts_train['Devengado_BC_dif3'] = ts_train.Devengado_BC.diff(3)\n",
        "display(ts_train)\n",
        "\n",
        "plt.figure(figsize=(8, 4))\n",
        "plt.plot(ts_train.Devengado_BC)\n",
        "plt.plot(ts_train.Devengado_BC_dif1)\n",
        "plt.plot(ts_train.Devengado_BC_dif2)\n",
        "plt.plot(ts_train.Devengado_BC_dif3)\n",
        "plt.xlabel('Años-Trimestres')\n",
        "plt.ylabel(\"Serie Transformada\")\n",
        "plt.grid(axis='y', linestyle='dashdot', linewidth=1)\n",
        "plt.legend([\"Serie con Transformación Box-Cox\", \"Serie diferenciada una vez\", \"Serie diferenciada dos veces\", \"Serie diferenciada tres veces\"], fontsize=10)\n",
        "\n",
        "plt.show()"
      ]
    },
    {
      "cell_type": "code",
      "execution_count": 14,
      "metadata": {
        "colab": {
          "base_uri": "https://localhost:8080/",
          "height": 279
        },
        "id": "1aiUu0NVuYf6",
        "outputId": "b38306e2-4a6b-4acd-dd6c-909445a94f40"
      },
      "outputs": [
        {
          "data": {
            "image/png": "[encoded data removed]",
            "text/plain": [
              "<Figure size 576x288 with 1 Axes>"
            ]
          },
          "metadata": {
            "needs_background": "light"
          },
          "output_type": "display_data"
        }
      ],
      "source": [
        "plt.figure(figsize=(8, 4))\n",
        "plt.plot(ts_train.Devengado_BC_dif1)\n",
        "plt.plot(ts_train.Devengado_BC_dif2)\n",
        "plt.plot(ts_train.Devengado_BC_dif3)\n",
        "plt.xlabel('Años-Trimestres')\n",
        "plt.ylabel(\"Serie Transformada\")\n",
        "plt.grid(axis='y', linestyle='dashdot', linewidth=1)\n",
        "plt.legend([\"Serie diferenciada una vez\", \"Serie diferenciada dos veces\",\"Serie diferenciada tres veces\"], fontsize=9,loc ='best')\n",
        "\n",
        "plt.show()"
      ]
    },
    {
      "cell_type": "markdown",
      "metadata": {
        "id": "qGtco99UuYf6"
      },
      "source": [
        "## **Verificación de estacionariedad**"
      ]
    },
    {
      "cell_type": "markdown",
      "metadata": {
        "id": "B_eciO8SuYf6"
      },
      "source": [
        "### **Prueba Dickey-Fuller**"
      ]
    },
    {
      "cell_type": "code",
      "execution_count": 15,
      "metadata": {
        "colab": {
          "base_uri": "https://localhost:8080/"
        },
        "id": "-Ip67pgVuYf6",
        "outputId": "3aef30ca-1ed4-4994-d7a9-943780b0913a"
      },
      "outputs": [
        {
          "name": "stdout",
          "output_type": "stream",
          "text": [
            "Serie con una diferenciación\n",
            "ADF Statistic: -2.040131\n",
            "p-value: 0.269259\n",
            "Critical Values:\n",
            "\t1%: -3.532\n",
            "\t5%: -2.906\n",
            "\t10%: -2.590\n",
            "====================================================\n",
            "Serie con dos diferenciaciones\n",
            "ADF Statistic: -2.074849\n",
            "p-value: 0.254747\n",
            "Critical Values:\n",
            "\t1%: -3.532\n",
            "\t5%: -2.906\n",
            "\t10%: -2.590\n",
            "Serie con Transformación Box-Cox\n",
            "ADF Statistic: -0.704741\n",
            "p-value: 0.845518\n",
            "Critical Values:\n",
            "\t1%: -3.526\n",
            "\t5%: -2.903\n",
            "\t10%: -2.589\n",
            "====================================================\n",
            "Serie con Transformación Box-Cox y una diferenciación\n",
            "ADF Statistic: -4.556582\n",
            "p-value: 0.000155\n",
            "Critical Values:\n",
            "\t1%: -3.527\n",
            "\t5%: -2.904\n",
            "\t10%: -2.589\n",
            "====================================================\n",
            "Serie con Transformación Box-Cox y dos diferenciaciones\n",
            "ADF Statistic: -2.719963\n",
            "p-value: 0.070647\n",
            "Critical Values:\n",
            "\t1%: -3.532\n",
            "\t5%: -2.906\n",
            "\t10%: -2.590\n",
            "====================================================\n",
            "Serie con Transformación Box-Cox y tres diferenciaciones\n",
            "ADF Statistic: -3.150265\n",
            "p-value: 0.023050\n",
            "Critical Values:\n",
            "\t1%: -3.542\n",
            "\t5%: -2.910\n",
            "\t10%: -2.593\n"
          ]
        }
      ],
      "source": [
        "print(\"Serie con una diferenciación\")\n",
        "Prueba_DF = adfuller(ts_train.Devengado_dif1[1:])\n",
        "print('ADF Statistic: %f' % Prueba_DF[0])\n",
        "print('p-value: %f' % Prueba_DF[1])\n",
        "print('Critical Values:')\n",
        "for key, value in Prueba_DF[4].items():\n",
        "  print('\\t%s: %.3f' % (key, value))\n",
        "\n",
        "print(\"====================================================\")\n",
        "print(\"Serie con dos diferenciaciones\")\n",
        "Prueba_DF = adfuller(ts_train.Devengado_dif2[2:])\n",
        "print('ADF Statistic: %f' % Prueba_DF[0])\n",
        "print('p-value: %f' % Prueba_DF[1])\n",
        "print('Critical Values:')\n",
        "for key, value in Prueba_DF[4].items():\n",
        "  print('\\t%s: %.3f' % (key, value))\n",
        "\n",
        "\n",
        "print(\"Serie con Transformación Box-Cox\")\n",
        "Prueba_DF = adfuller(ts_train.Devengado_BC)\n",
        "print('ADF Statistic: %f' % Prueba_DF[0])\n",
        "print('p-value: %f' % Prueba_DF[1])\n",
        "print('Critical Values:')\n",
        "for key, value in Prueba_DF[4].items():\n",
        "  print('\\t%s: %.3f' % (key, value))\n",
        "\n",
        "print(\"====================================================\")\n",
        "print(\"Serie con Transformación Box-Cox y una diferenciación\")\n",
        "Prueba_DF = adfuller(ts_train.Devengado_BC_dif1[1:])\n",
        "print('ADF Statistic: %f' % Prueba_DF[0])\n",
        "print('p-value: %f' % Prueba_DF[1])\n",
        "print('Critical Values:')\n",
        "for key, value in Prueba_DF[4].items():\n",
        "  print('\\t%s: %.3f' % (key, value))\n",
        "\n",
        "print(\"====================================================\")\n",
        "print(\"Serie con Transformación Box-Cox y dos diferenciaciones\")\n",
        "Prueba_DF = adfuller(ts_train.Devengado_BC_dif2[2:])\n",
        "print('ADF Statistic: %f' % Prueba_DF[0])\n",
        "print('p-value: %f' % Prueba_DF[1])\n",
        "print('Critical Values:')\n",
        "for key, value in Prueba_DF[4].items():\n",
        "  print('\\t%s: %.3f' % (key, value))\n",
        "\n",
        "print(\"====================================================\")\n",
        "print(\"Serie con Transformación Box-Cox y tres diferenciaciones\")\n",
        "Prueba_DF = adfuller(ts_train.Devengado_BC_dif3[3:])\n",
        "print('ADF Statistic: %f' % Prueba_DF[0])\n",
        "print('p-value: %f' % Prueba_DF[1])\n",
        "print('Critical Values:')\n",
        "for key, value in Prueba_DF[4].items():\n",
        "  print('\\t%s: %.3f' % (key, value))"
      ]
    },
    {
      "cell_type": "markdown",
      "metadata": {
        "id": "4ZbPzbqEuYf7"
      },
      "source": [
        "## **Gráfico de ACF Y PACF**"
      ]
    },
    {
      "cell_type": "markdown",
      "metadata": {
        "id": "4I0GTqIuuYf7"
      },
      "source": [
        "### **ACF-MA** "
      ]
    },
    {
      "cell_type": "code",
      "execution_count": 16,
      "metadata": {
        "colab": {
          "base_uri": "https://localhost:8080/",
          "height": 283
        },
        "id": "qyOsYBtruYf8",
        "outputId": "6f0b1ec9-ae6b-4ea1-a839-1e8265cc4308"
      },
      "outputs": [
        {
          "data": {
            "image/png": "[encoded data removed]",
            "text/plain": [
              "<Figure size 576x288 with 1 Axes>"
            ]
          },
          "metadata": {
            "needs_background": "light"
          },
          "output_type": "display_data"
        }
      ],
      "source": [
        "alpha = 0.05\n",
        "fig, ax = plt.subplots(figsize=(8,4))\n",
        "fig = plot_acf(ts_train.Devengado_BC_dif1[1:], ax=ax, alpha=alpha, lags=50, title=None)\n",
        "plt.xlabel('Retraso')\n",
        "plt.ylabel('Autocorrelación')\n",
        "plt.grid(axis='y', linestyle='dashdot', linewidth=1)\n",
        "plt.annotate(\"IC del \" + str(100*(1-alpha)) + \"% para la nulidad de la autocorrelación\", xy=(30,0.8))\n",
        "plt.show()"
      ]
    },
    {
      "cell_type": "markdown",
      "metadata": {
        "id": "DSF12NuHuYf8"
      },
      "source": [
        "### **PACF-AR**"
      ]
    },
    {
      "cell_type": "code",
      "execution_count": 17,
      "metadata": {
        "colab": {
          "base_uri": "https://localhost:8080/",
          "height": 338
        },
        "id": "KRAXqJLguYf9",
        "outputId": "15a09fd7-d27f-472a-ac10-eb13c0f73f8e"
      },
      "outputs": [
        {
          "name": "stderr",
          "output_type": "stream",
          "text": [
            "/usr/local/lib/python3.8/dist-packages/statsmodels/graphics/tsaplots.py:348: FutureWarning: The default method 'yw' can produce PACF values outside of the [-1,1] interval. After 0.13, the default will change tounadjusted Yule-Walker ('ywm'). You can use this method now by setting method='ywm'.\n",
            "  warnings.warn(\n"
          ]
        },
        {
          "data": {
            "image/png": "[encoded data removed]",
            "text/plain": [
              "<Figure size 576x288 with 1 Axes>"
            ]
          },
          "metadata": {
            "needs_background": "light"
          },
          "output_type": "display_data"
        }
      ],
      "source": [
        "alpha = 0.05\n",
        "fig, ax = plt.subplots(figsize=(8,4))\n",
        "fig = plot_pacf(ts_train.Devengado_BC_dif1[1:] , ax=ax, alpha=alpha, lags=30, title=None)\n",
        "plt.xlabel('Retraso')\n",
        "plt.ylabel('Autocorrelación parcial')\n",
        "plt.grid(axis='y', linestyle='dashdot', linewidth=1)\n",
        "plt.annotate(\"IC del \" + str(100*(1-alpha)) + \"% para la nulidad de la autocorrelación parcial\", xy=(10,0.5))\n",
        "plt.show()"
      ]
    },
    {
      "cell_type": "markdown",
      "metadata": {
        "id": "_VYaz8hTuYf9"
      },
      "source": [
        "## **Determinar modelos**"
      ]
    },
    {
      "cell_type": "code",
      "execution_count": 21,
      "metadata": {
        "colab": {
          "base_uri": "https://localhost:8080/"
        },
        "id": "zh2ZnAH3uYf-",
        "outputId": "6ccdf7aa-852e-49dc-b986-f6acec06a557"
      },
      "outputs": [
        {
          "name": "stderr",
          "output_type": "stream",
          "text": [
            "/usr/local/lib/python3.8/dist-packages/statsmodels/tsa/base/tsa_model.py:471: ValueWarning: No frequency information was provided, so inferred frequency Q-DEC will be used.\n",
            "  self._init_dates(dates, freq)\n",
            "/usr/local/lib/python3.8/dist-packages/statsmodels/tsa/base/tsa_model.py:471: ValueWarning: No frequency information was provided, so inferred frequency Q-DEC will be used.\n",
            "  self._init_dates(dates, freq)\n",
            "/usr/local/lib/python3.8/dist-packages/statsmodels/tsa/base/tsa_model.py:471: ValueWarning: No frequency information was provided, so inferred frequency Q-DEC will be used.\n",
            "  self._init_dates(dates, freq)\n"
          ]
        },
        {
          "name": "stdout",
          "output_type": "stream",
          "text": [
            "                               SARIMAX Results                                \n",
            "==============================================================================\n",
            "Dep. Variable:           Devengado_BC   No. Observations:                   76\n",
            "Model:                 ARIMA(3, 1, 3)   Log Likelihood                 179.575\n",
            "Date:                Thu, 02 Feb 2023   AIC                           -345.151\n",
            "Time:                        16:26:27   BIC                           -328.928\n",
            "Sample:                    03-31-1999   HQIC                          -338.673\n",
            "                         - 12-31-2017                                         \n",
            "Covariance Type:                  opg                                         \n",
            "==============================================================================\n",
            "                 coef    std err          z      P>|z|      [0.025      0.975]\n",
            "------------------------------------------------------------------------------\n",
            "ar.L1         -0.9570      0.047    -20.294      0.000      -1.049      -0.865\n",
            "ar.L2         -0.9746      0.036    -26.707      0.000      -1.046      -0.903\n",
            "ar.L3         -0.9500      0.040    -23.918      0.000      -1.028      -0.872\n",
            "ma.L1          0.6137      0.133      4.607      0.000       0.353       0.875\n",
            "ma.L2          0.6493      0.147      4.416      0.000       0.361       0.938\n",
            "ma.L3          0.3208      0.157      2.046      0.041       0.014       0.628\n",
            "sigma2         0.0005   9.42e-05      4.810      0.000       0.000       0.001\n",
            "===================================================================================\n",
            "Ljung-Box (L1) (Q):                   3.97   Jarque-Bera (JB):                 1.55\n",
            "Prob(Q):                              0.05   Prob(JB):                         0.46\n",
            "Heteroskedasticity (H):               0.53   Skew:                            -0.32\n",
            "Prob(H) (two-sided):                  0.12   Kurtosis:                         2.73\n",
            "===================================================================================\n",
            "\n",
            "Warnings:\n",
            "[1] Covariance matrix calculated using the outer product of gradients (complex-step).\n"
          ]
        },
        {
          "name": "stderr",
          "output_type": "stream",
          "text": [
            "/usr/local/lib/python3.8/dist-packages/statsmodels/base/model.py:604: ConvergenceWarning: Maximum Likelihood optimization failed to converge. Check mle_retvals\n",
            "  warnings.warn(\"Maximum Likelihood optimization failed to \"\n"
          ]
        }
      ],
      "source": [
        "mod1 = sm.tsa.ARIMA(ts_train.Devengado_BC, order=(3,1,3))\n",
        "res1 = mod1.fit()\n",
        "print(res1.summary())"
      ]
    },
    {
      "cell_type": "code",
      "execution_count": 22,
      "metadata": {
        "colab": {
          "base_uri": "https://localhost:8080/"
        },
        "id": "k1bceR_8uYf-",
        "outputId": "970fe093-3d13-4f38-8e3f-60982abfa8e8"
      },
      "outputs": [
        {
          "name": "stderr",
          "output_type": "stream",
          "text": [
            "/usr/local/lib/python3.8/dist-packages/statsmodels/tsa/base/tsa_model.py:471: ValueWarning: No frequency information was provided, so inferred frequency Q-DEC will be used.\n",
            "  self._init_dates(dates, freq)\n",
            "/usr/local/lib/python3.8/dist-packages/statsmodels/tsa/base/tsa_model.py:471: ValueWarning: No frequency information was provided, so inferred frequency Q-DEC will be used.\n",
            "  self._init_dates(dates, freq)\n",
            "/usr/local/lib/python3.8/dist-packages/statsmodels/tsa/base/tsa_model.py:471: ValueWarning: No frequency information was provided, so inferred frequency Q-DEC will be used.\n",
            "  self._init_dates(dates, freq)\n"
          ]
        },
        {
          "name": "stdout",
          "output_type": "stream",
          "text": [
            "                               SARIMAX Results                                \n",
            "==============================================================================\n",
            "Dep. Variable:           Devengado_BC   No. Observations:                   76\n",
            "Model:                 ARIMA(3, 1, 2)   Log Likelihood                 176.361\n",
            "Date:                Thu, 02 Feb 2023   AIC                           -340.722\n",
            "Time:                        16:26:43   BIC                           -326.817\n",
            "Sample:                    03-31-1999   HQIC                          -335.170\n",
            "                         - 12-31-2017                                         \n",
            "Covariance Type:                  opg                                         \n",
            "==============================================================================\n",
            "                 coef    std err          z      P>|z|      [0.025      0.975]\n",
            "------------------------------------------------------------------------------\n",
            "ar.L1         -0.9278      0.059    -15.599      0.000      -1.044      -0.811\n",
            "ar.L2         -0.9599      0.049    -19.630      0.000      -1.056      -0.864\n",
            "ar.L3         -0.9016      0.054    -16.566      0.000      -1.008      -0.795\n",
            "ma.L1          0.4737      0.118      4.023      0.000       0.243       0.704\n",
            "ma.L2          0.5456      0.118      4.625      0.000       0.314       0.777\n",
            "sigma2         0.0005      0.000      4.861      0.000       0.000       0.001\n",
            "===================================================================================\n",
            "Ljung-Box (L1) (Q):                   3.36   Jarque-Bera (JB):                 0.92\n",
            "Prob(Q):                              0.07   Prob(JB):                         0.63\n",
            "Heteroskedasticity (H):               0.51   Skew:                            -0.27\n",
            "Prob(H) (two-sided):                  0.10   Kurtosis:                         2.91\n",
            "===================================================================================\n",
            "\n",
            "Warnings:\n",
            "[1] Covariance matrix calculated using the outer product of gradients (complex-step).\n"
          ]
        }
      ],
      "source": [
        "mod2 = sm.tsa.ARIMA(ts_train.Devengado_BC, order=(3,1,2))\n",
        "res2 = mod2.fit()\n",
        "print(res2.summary())"
      ]
    },
    {
      "cell_type": "code",
      "execution_count": 23,
      "metadata": {
        "colab": {
          "base_uri": "https://localhost:8080/"
        },
        "id": "X7wfk94muYf_",
        "outputId": "55f60b35-97a2-41dd-f999-fbf9409ee740"
      },
      "outputs": [
        {
          "name": "stderr",
          "output_type": "stream",
          "text": [
            "/usr/local/lib/python3.8/dist-packages/statsmodels/tsa/base/tsa_model.py:471: ValueWarning: No frequency information was provided, so inferred frequency Q-DEC will be used.\n",
            "  self._init_dates(dates, freq)\n",
            "/usr/local/lib/python3.8/dist-packages/statsmodels/tsa/base/tsa_model.py:471: ValueWarning: No frequency information was provided, so inferred frequency Q-DEC will be used.\n",
            "  self._init_dates(dates, freq)\n",
            "/usr/local/lib/python3.8/dist-packages/statsmodels/tsa/base/tsa_model.py:471: ValueWarning: No frequency information was provided, so inferred frequency Q-DEC will be used.\n",
            "  self._init_dates(dates, freq)\n"
          ]
        },
        {
          "name": "stdout",
          "output_type": "stream",
          "text": [
            "                               SARIMAX Results                                \n",
            "==============================================================================\n",
            "Dep. Variable:           Devengado_BC   No. Observations:                   76\n",
            "Model:                 ARIMA(3, 1, 0)   Log Likelihood                 157.892\n",
            "Date:                Thu, 02 Feb 2023   AIC                           -307.785\n",
            "Time:                        16:26:56   BIC                           -298.515\n",
            "Sample:                    03-31-1999   HQIC                          -304.084\n",
            "                         - 12-31-2017                                         \n",
            "Covariance Type:                  opg                                         \n",
            "==============================================================================\n",
            "                 coef    std err          z      P>|z|      [0.025      0.975]\n",
            "------------------------------------------------------------------------------\n",
            "ar.L1         -0.7882      0.112     -7.053      0.000      -1.007      -0.569\n",
            "ar.L2         -0.7614      0.103     -7.387      0.000      -0.963      -0.559\n",
            "ar.L3         -0.7881      0.085     -9.301      0.000      -0.954      -0.622\n",
            "sigma2         0.0008      0.000      4.335      0.000       0.000       0.001\n",
            "===================================================================================\n",
            "Ljung-Box (L1) (Q):                   0.07   Jarque-Bera (JB):                 1.47\n",
            "Prob(Q):                              0.79   Prob(JB):                         0.48\n",
            "Heteroskedasticity (H):               0.83   Skew:                            -0.20\n",
            "Prob(H) (two-sided):                  0.65   Kurtosis:                         2.45\n",
            "===================================================================================\n",
            "\n",
            "Warnings:\n",
            "[1] Covariance matrix calculated using the outer product of gradients (complex-step).\n"
          ]
        }
      ],
      "source": [
        "mod3 = sm.tsa.ARIMA(ts_train.Devengado_BC, order=(3,1,0))\n",
        "res3 = mod3.fit()\n",
        "print(res3.summary())"
      ]
    },
    {
      "cell_type": "code",
      "execution_count": 25,
      "metadata": {
        "colab": {
          "base_uri": "https://localhost:8080/"
        },
        "id": "Fp70nLgiuYf_",
        "outputId": "694c0b00-cab5-48de-e90b-b8482491cfcf"
      },
      "outputs": [
        {
          "name": "stdout",
          "output_type": "stream",
          "text": [
            " ARIMA(3,1,2)(0,0,0)[0] intercept\n",
            "                               SARIMAX Results                                \n",
            "==============================================================================\n",
            "Dep. Variable:                      y   No. Observations:                   76\n",
            "Model:               SARIMAX(3, 1, 2)   Log Likelihood                 191.302\n",
            "Date:                Thu, 02 Feb 2023   AIC                           -368.604\n",
            "Time:                        16:28:29   BIC                           -352.381\n",
            "Sample:                    03-31-1999   HQIC                          -362.126\n",
            "                         - 12-31-2017                                         \n",
            "Covariance Type:                  opg                                         \n",
            "==============================================================================\n",
            "                 coef    std err          z      P>|z|      [0.025      0.975]\n",
            "------------------------------------------------------------------------------\n",
            "intercept      0.0239      0.004      6.554      0.000       0.017       0.031\n",
            "ar.L1         -0.9508      0.053    -17.776      0.000      -1.056      -0.846\n",
            "ar.L2         -0.9531      0.050    -19.254      0.000      -1.050      -0.856\n",
            "ar.L3         -0.9367      0.045    -20.687      0.000      -1.025      -0.848\n",
            "ma.L1          0.2866      0.145      1.979      0.048       0.003       0.570\n",
            "ma.L2          0.2813      0.134      2.102      0.036       0.019       0.544\n",
            "sigma2         0.0003   5.67e-05      5.791      0.000       0.000       0.000\n",
            "===================================================================================\n",
            "Ljung-Box (L1) (Q):                   0.00   Jarque-Bera (JB):                 1.49\n",
            "Prob(Q):                              0.96   Prob(JB):                         0.47\n",
            "Heteroskedasticity (H):               0.35   Skew:                            -0.35\n",
            "Prob(H) (two-sided):                  0.01   Kurtosis:                         3.01\n",
            "===================================================================================\n",
            "\n",
            "Warnings:\n",
            "[1] Covariance matrix calculated using the outer product of gradients (complex-step).\n"
          ]
        }
      ],
      "source": [
        "mod4 = auto_arima(ts_train.Devengado_BC, max_p=10, max_q=10)\n",
        "print(mod4)\n",
        "print(mod4.summary())"
      ]
    },
    {
      "cell_type": "markdown",
      "metadata": {
        "id": "bMWwFGeUuYgA"
      },
      "source": [
        "## **Evaluación de modelos**"
      ]
    },
    {
      "cell_type": "code",
      "execution_count": 26,
      "metadata": {
        "colab": {
          "base_uri": "https://localhost:8080/",
          "height": 987
        },
        "id": "_QAlF-NGuYgA",
        "outputId": "8e11dbff-b815-4f0e-95a2-d62b4720ef8e"
      },
      "outputs": [
        {
          "data": {
            "text/html": [
              "\n",
              "  <div id=\"df-ddc537b8-ea40-48d7-9d51-33f701cc3b98\">\n",
              "    <div class=\"colab-df-container\">\n",
              "      <div>\n",
              "<style scoped>\n",
              "    .dataframe tbody tr th:only-of-type {\n",
              "        vertical-align: middle;\n",
              "    }\n",
              "\n",
              "    .dataframe tbody tr th {\n",
              "        vertical-align: top;\n",
              "    }\n",
              "\n",
              "    .dataframe thead th {\n",
              "        text-align: right;\n",
              "    }\n",
              "</style>\n",
              "<table border=\"1\" class=\"dataframe\">\n",
              "  <thead>\n",
              "    <tr style=\"text-align: right;\">\n",
              "      <th></th>\n",
              "      <th>Devengado</th>\n",
              "      <th>Devengado_BC</th>\n",
              "    </tr>\n",
              "    <tr>\n",
              "      <th>Tiempo</th>\n",
              "      <th></th>\n",
              "      <th></th>\n",
              "    </tr>\n",
              "  </thead>\n",
              "  <tbody>\n",
              "    <tr>\n",
              "      <th>2018-03-31</th>\n",
              "      <td>33753769300</td>\n",
              "      <td>13.059976</td>\n",
              "    </tr>\n",
              "    <tr>\n",
              "      <th>2018-06-30</th>\n",
              "      <td>34652415221</td>\n",
              "      <td>13.066469</td>\n",
              "    </tr>\n",
              "    <tr>\n",
              "      <th>2018-09-30</th>\n",
              "      <td>39302079687</td>\n",
              "      <td>13.097445</td>\n",
              "    </tr>\n",
              "    <tr>\n",
              "      <th>2018-12-31</th>\n",
              "      <td>51723703561</td>\n",
              "      <td>13.164236</td>\n",
              "    </tr>\n",
              "    <tr>\n",
              "      <th>2019-03-31</th>\n",
              "      <td>32741619517</td>\n",
              "      <td>13.052441</td>\n",
              "    </tr>\n",
              "    <tr>\n",
              "      <th>2019-06-30</th>\n",
              "      <td>35957820865</td>\n",
              "      <td>13.075590</td>\n",
              "    </tr>\n",
              "    <tr>\n",
              "      <th>2019-09-30</th>\n",
              "      <td>41552608987</td>\n",
              "      <td>13.111072</td>\n",
              "    </tr>\n",
              "    <tr>\n",
              "      <th>2019-12-31</th>\n",
              "      <td>51111332233</td>\n",
              "      <td>13.161361</td>\n",
              "    </tr>\n",
              "    <tr>\n",
              "      <th>2020-03-31</th>\n",
              "      <td>35887502299</td>\n",
              "      <td>13.075107</td>\n",
              "    </tr>\n",
              "    <tr>\n",
              "      <th>2020-06-30</th>\n",
              "      <td>32114225139</td>\n",
              "      <td>13.047646</td>\n",
              "    </tr>\n",
              "    <tr>\n",
              "      <th>2020-09-30</th>\n",
              "      <td>45185108022</td>\n",
              "      <td>13.131500</td>\n",
              "    </tr>\n",
              "    <tr>\n",
              "      <th>2020-12-31</th>\n",
              "      <td>69388950365</td>\n",
              "      <td>13.234528</td>\n",
              "    </tr>\n",
              "    <tr>\n",
              "      <th>2021-03-31</th>\n",
              "      <td>43690569458</td>\n",
              "      <td>13.123314</td>\n",
              "    </tr>\n",
              "    <tr>\n",
              "      <th>2021-06-30</th>\n",
              "      <td>41478245380</td>\n",
              "      <td>13.110635</td>\n",
              "    </tr>\n",
              "    <tr>\n",
              "      <th>2021-09-30</th>\n",
              "      <td>49967076899</td>\n",
              "      <td>13.155891</td>\n",
              "    </tr>\n",
              "    <tr>\n",
              "      <th>2021-12-31</th>\n",
              "      <td>63762340672</td>\n",
              "      <td>13.214419</td>\n",
              "    </tr>\n",
              "    <tr>\n",
              "      <th>2022-03-31</th>\n",
              "      <td>41459682458</td>\n",
              "      <td>13.110525</td>\n",
              "    </tr>\n",
              "    <tr>\n",
              "      <th>2022-06-30</th>\n",
              "      <td>44913442501</td>\n",
              "      <td>13.130034</td>\n",
              "    </tr>\n",
              "    <tr>\n",
              "      <th>2022-09-30</th>\n",
              "      <td>54977651771</td>\n",
              "      <td>13.178930</td>\n",
              "    </tr>\n",
              "    <tr>\n",
              "      <th>2022-12-31</th>\n",
              "      <td>68591179620</td>\n",
              "      <td>13.231784</td>\n",
              "    </tr>\n",
              "  </tbody>\n",
              "</table>\n",
              "</div>\n",
              "      <button class=\"colab-df-convert\" onclick=\"convertToInteractive('df-ddc537b8-ea40-48d7-9d51-33f701cc3b98')\"\n",
              "              title=\"Convert this dataframe to an interactive table.\"\n",
              "              style=\"display:none;\">\n",
              "        \n",
              "  <svg xmlns=\"http://www.w3.org/2000/svg\" height=\"24px\"viewBox=\"0 0 24 24\"\n",
              "       width=\"24px\">\n",
              "    <path d=\"M0 0h24v24H0V0z\" fill=\"none\"/>\n",
              "    <path d=\"M18.56 5.44l.94 2.06.94-2.06 2.06-.94-2.06-.94-.94-2.06-.94 2.06-2.06.94zm-11 1L8.5 8.5l.94-2.06 2.06-.94-2.06-.94L8.5 2.5l-.94 2.06-2.06.94zm10 10l.94 2.06.94-2.06 2.06-.94-2.06-.94-.94-2.06-.94 2.06-2.06.94z\"/><path d=\"M17.41 7.96l-1.37-1.37c-.4-.4-.92-.59-1.43-.59-.52 0-1.04.2-1.43.59L10.3 9.45l-7.72 7.72c-.78.78-.78 2.05 0 2.83L4 21.41c.39.39.9.59 1.41.59.51 0 1.02-.2 1.41-.59l7.78-7.78 2.81-2.81c.8-.78.8-2.07 0-2.86zM5.41 20L4 18.59l7.72-7.72 1.47 1.35L5.41 20z\"/>\n",
              "  </svg>\n",
              "      </button>\n",
              "      \n",
              "  <style>\n",
              "    .colab-df-container {\n",
              "      display:flex;\n",
              "      flex-wrap:wrap;\n",
              "      gap: 12px;\n",
              "    }\n",
              "\n",
              "    .colab-df-convert {\n",
              "      background-color: #E8F0FE;\n",
              "      border: none;\n",
              "      border-radius: 50%;\n",
              "      cursor: pointer;\n",
              "      display: none;\n",
              "      fill: #1967D2;\n",
              "      height: 32px;\n",
              "      padding: 0 0 0 0;\n",
              "      width: 32px;\n",
              "    }\n",
              "\n",
              "    .colab-df-convert:hover {\n",
              "      background-color: #E2EBFA;\n",
              "      box-shadow: 0px 1px 2px rgba(60, 64, 67, 0.3), 0px 1px 3px 1px rgba(60, 64, 67, 0.15);\n",
              "      fill: #174EA6;\n",
              "    }\n",
              "\n",
              "    [theme=dark] .colab-df-convert {\n",
              "      background-color: #3B4455;\n",
              "      fill: #D2E3FC;\n",
              "    }\n",
              "\n",
              "    [theme=dark] .colab-df-convert:hover {\n",
              "      background-color: #434B5C;\n",
              "      box-shadow: 0px 1px 3px 1px rgba(0, 0, 0, 0.15);\n",
              "      filter: drop-shadow(0px 1px 2px rgba(0, 0, 0, 0.3));\n",
              "      fill: #FFFFFF;\n",
              "    }\n",
              "  </style>\n",
              "\n",
              "      <script>\n",
              "        const buttonEl =\n",
              "          document.querySelector('#df-ddc537b8-ea40-48d7-9d51-33f701cc3b98 button.colab-df-convert');\n",
              "        buttonEl.style.display =\n",
              "          google.colab.kernel.accessAllowed ? 'block' : 'none';\n",
              "\n",
              "        async function convertToInteractive(key) {\n",
              "          const element = document.querySelector('#df-ddc537b8-ea40-48d7-9d51-33f701cc3b98');\n",
              "          const dataTable =\n",
              "            await google.colab.kernel.invokeFunction('convertToInteractive',\n",
              "                                                     [key], {});\n",
              "          if (!dataTable) return;\n",
              "\n",
              "          const docLinkHtml = 'Like what you see? Visit the ' +\n",
              "            '<a target=\"_blank\" href=https://colab.research.google.com/notebooks/data_table.ipynb>data table notebook</a>'\n",
              "            + ' to learn more about interactive tables.';\n",
              "          element.innerHTML = '';\n",
              "          dataTable['output_type'] = 'display_data';\n",
              "          await google.colab.output.renderOutput(dataTable, element);\n",
              "          const docLink = document.createElement('div');\n",
              "          docLink.innerHTML = docLinkHtml;\n",
              "          element.appendChild(docLink);\n",
              "        }\n",
              "      </script>\n",
              "    </div>\n",
              "  </div>\n",
              "  "
            ],
            "text/plain": [
              "              Devengado  Devengado_BC\n",
              "Tiempo                               \n",
              "2018-03-31  33753769300     13.059976\n",
              "2018-06-30  34652415221     13.066469\n",
              "2018-09-30  39302079687     13.097445\n",
              "2018-12-31  51723703561     13.164236\n",
              "2019-03-31  32741619517     13.052441\n",
              "2019-06-30  35957820865     13.075590\n",
              "2019-09-30  41552608987     13.111072\n",
              "2019-12-31  51111332233     13.161361\n",
              "2020-03-31  35887502299     13.075107\n",
              "2020-06-30  32114225139     13.047646\n",
              "2020-09-30  45185108022     13.131500\n",
              "2020-12-31  69388950365     13.234528\n",
              "2021-03-31  43690569458     13.123314\n",
              "2021-06-30  41478245380     13.110635\n",
              "2021-09-30  49967076899     13.155891\n",
              "2021-12-31  63762340672     13.214419\n",
              "2022-03-31  41459682458     13.110525\n",
              "2022-06-30  44913442501     13.130034\n",
              "2022-09-30  54977651771     13.178930\n",
              "2022-12-31  68591179620     13.231784"
            ]
          },
          "metadata": {},
          "output_type": "display_data"
        },
        {
          "data": {
            "text/plain": [
              "<matplotlib.axes._subplots.AxesSubplot at 0x7f62a0829610>"
            ]
          },
          "execution_count": 26,
          "metadata": {},
          "output_type": "execute_result"
        },
        {
          "data": {
            "image/png": "[encoded data removed]",
            "text/plain": [
              "<Figure size 432x288 with 1 Axes>"
            ]
          },
          "metadata": {
            "needs_background": "light"
          },
          "output_type": "display_data"
        }
      ],
      "source": [
        "# Transformando lod datos de prueba con el lambda obtenido en el conjunto de entrenamiento\n",
        "ts_test['Devengado_BC'] = (np.power(ts_test.Devengado,lmbda)-1)/lmbda\n",
        "display(ts_test)\n",
        "ts_test.Devengado_BC.plot()\n"
      ]
    },
    {
      "cell_type": "code",
      "execution_count": 27,
      "metadata": {
        "id": "RjLIwsw6uYgA"
      },
      "outputs": [],
      "source": [
        "n_per =len(ts_test)\n",
        "ts_test['Predict_Mod1']= res1.forecast(n_per)\n",
        "ts_test['Predict_Mod2']= res2.forecast(n_per)\n",
        "ts_test['Predict_Mod3']= res3.forecast(n_per)\n",
        "ts_test['Predict_Mod4']= mod4.predict(n_periods=n_per)"
      ]
    },
    {
      "cell_type": "code",
      "execution_count": 33,
      "metadata": {
        "colab": {
          "base_uri": "https://localhost:8080/"
        },
        "id": "LlvaBwl-uYgA",
        "outputId": "ab863bdd-ae92-45ba-e184-c387dcb494c7"
      },
      "outputs": [
        {
          "name": "stdout",
          "output_type": "stream",
          "text": [
            "==============================================================\n",
            "RMSE del Modelo 1 :  0.054468227872256685\n",
            "RMSE del Modelo 2 :  0.05471238372210487\n",
            "RMSE del Modelo 3 :  0.06315201793952334\n",
            "RMSE del Modelo 4 :  0.03975291181908315\n"
          ]
        }
      ],
      "source": [
        "# Función RMSE\n",
        "def rmse(y_true, y_pred):\n",
        "    return np.sqrt(np.mean((y_true - y_pred) ** 2))\n",
        "\n",
        "print(\"==============================================================\")\n",
        "print(\"RMSE del Modelo 1 : \", rmse(ts_test.Devengado_BC,ts_test.Predict_Mod1))\n",
        "print(\"RMSE del Modelo 2 : \", rmse(ts_test.Devengado_BC,ts_test.Predict_Mod2))\n",
        "print(\"RMSE del Modelo 3 : \", rmse(ts_test.Devengado_BC,ts_test.Predict_Mod3))\n",
        "print(\"RMSE del Modelo 4 : \", rmse(ts_test.Devengado_BC,ts_test.Predict_Mod4))"
      ]
    },
    {
      "cell_type": "markdown",
      "metadata": {
        "id": "va8SHKdxuYgC"
      },
      "source": [
        "> Nos   quedamos con el cuarto modelo que nos ofrece el menor RMSE en el conjunto de Prueba"
      ]
    },
    {
      "cell_type": "markdown",
      "metadata": {
        "id": "MYs6REdRuYgC"
      },
      "source": [
        "### **Grafico de los valores ajustados y pronósticados**"
      ]
    },
    {
      "cell_type": "code",
      "execution_count": 34,
      "metadata": {
        "colab": {
          "base_uri": "https://localhost:8080/",
          "height": 455
        },
        "id": "fKt0WNYduYgC",
        "outputId": "c7087835-5180-4400-e0f9-7e5f59f1a9a0"
      },
      "outputs": [
        {
          "data": {
            "text/html": [
              "\n",
              "  <div id=\"df-17b91e2e-aa8d-4b5b-8cd2-2265ec2c8601\">\n",
              "    <div class=\"colab-df-container\">\n",
              "      <div>\n",
              "<style scoped>\n",
              "    .dataframe tbody tr th:only-of-type {\n",
              "        vertical-align: middle;\n",
              "    }\n",
              "\n",
              "    .dataframe tbody tr th {\n",
              "        vertical-align: top;\n",
              "    }\n",
              "\n",
              "    .dataframe thead th {\n",
              "        text-align: right;\n",
              "    }\n",
              "</style>\n",
              "<table border=\"1\" class=\"dataframe\">\n",
              "  <thead>\n",
              "    <tr style=\"text-align: right;\">\n",
              "      <th></th>\n",
              "      <th>Devengado</th>\n",
              "      <th>Devengado_BC</th>\n",
              "      <th>Devengado_dif1</th>\n",
              "      <th>Devengado_dif2</th>\n",
              "      <th>Devengado_BC_dif1</th>\n",
              "      <th>Devengado_BC_dif2</th>\n",
              "      <th>Devengado_BC_dif3</th>\n",
              "      <th>Fitted_Mod4</th>\n",
              "    </tr>\n",
              "    <tr>\n",
              "      <th>Tiempo</th>\n",
              "      <th></th>\n",
              "      <th></th>\n",
              "      <th></th>\n",
              "      <th></th>\n",
              "      <th></th>\n",
              "      <th></th>\n",
              "      <th></th>\n",
              "      <th></th>\n",
              "    </tr>\n",
              "  </thead>\n",
              "  <tbody>\n",
              "    <tr>\n",
              "      <th>1999-03-31</th>\n",
              "      <td>5556160646</td>\n",
              "      <td>12.589807</td>\n",
              "      <td>NaN</td>\n",
              "      <td>NaN</td>\n",
              "      <td>NaN</td>\n",
              "      <td>NaN</td>\n",
              "      <td>NaN</td>\n",
              "      <td>0.006215</td>\n",
              "    </tr>\n",
              "    <tr>\n",
              "      <th>1999-06-30</th>\n",
              "      <td>6423105672</td>\n",
              "      <td>12.629426</td>\n",
              "      <td>8.669450e+08</td>\n",
              "      <td>NaN</td>\n",
              "      <td>0.039618</td>\n",
              "      <td>NaN</td>\n",
              "      <td>NaN</td>\n",
              "      <td>12.596022</td>\n",
              "    </tr>\n",
              "    <tr>\n",
              "      <th>1999-09-30</th>\n",
              "      <td>7828654515</td>\n",
              "      <td>12.682965</td>\n",
              "      <td>1.405549e+09</td>\n",
              "      <td>2.272494e+09</td>\n",
              "      <td>0.053540</td>\n",
              "      <td>0.093158</td>\n",
              "      <td>NaN</td>\n",
              "      <td>12.621858</td>\n",
              "    </tr>\n",
              "    <tr>\n",
              "      <th>1999-12-31</th>\n",
              "      <td>7445509920</td>\n",
              "      <td>12.669447</td>\n",
              "      <td>-3.831446e+08</td>\n",
              "      <td>1.022404e+09</td>\n",
              "      <td>-0.013519</td>\n",
              "      <td>0.040021</td>\n",
              "      <td>0.079639</td>\n",
              "      <td>12.649690</td>\n",
              "    </tr>\n",
              "    <tr>\n",
              "      <th>2000-03-31</th>\n",
              "      <td>6652633175</td>\n",
              "      <td>12.638970</td>\n",
              "      <td>-7.928767e+08</td>\n",
              "      <td>-1.176021e+09</td>\n",
              "      <td>-0.030477</td>\n",
              "      <td>-0.043996</td>\n",
              "      <td>0.009544</td>\n",
              "      <td>12.621166</td>\n",
              "    </tr>\n",
              "    <tr>\n",
              "      <th>...</th>\n",
              "      <td>...</td>\n",
              "      <td>...</td>\n",
              "      <td>...</td>\n",
              "      <td>...</td>\n",
              "      <td>...</td>\n",
              "      <td>...</td>\n",
              "      <td>...</td>\n",
              "      <td>...</td>\n",
              "    </tr>\n",
              "    <tr>\n",
              "      <th>2016-12-31</th>\n",
              "      <td>42988516970</td>\n",
              "      <td>13.119365</td>\n",
              "      <td>8.829521e+09</td>\n",
              "      <td>1.205607e+10</td>\n",
              "      <td>0.056439</td>\n",
              "      <td>0.081028</td>\n",
              "      <td>0.100972</td>\n",
              "      <td>13.150612</td>\n",
              "    </tr>\n",
              "    <tr>\n",
              "      <th>2017-03-31</th>\n",
              "      <td>31701415874</td>\n",
              "      <td>13.044436</td>\n",
              "      <td>-1.128710e+10</td>\n",
              "      <td>-2.457580e+09</td>\n",
              "      <td>-0.074929</td>\n",
              "      <td>-0.018490</td>\n",
              "      <td>0.006099</td>\n",
              "      <td>13.034330</td>\n",
              "    </tr>\n",
              "    <tr>\n",
              "      <th>2017-06-30</th>\n",
              "      <td>33760658159</td>\n",
              "      <td>13.060027</td>\n",
              "      <td>2.059242e+09</td>\n",
              "      <td>-9.227859e+09</td>\n",
              "      <td>0.015591</td>\n",
              "      <td>-0.059338</td>\n",
              "      <td>-0.002900</td>\n",
              "      <td>13.056825</td>\n",
              "    </tr>\n",
              "    <tr>\n",
              "      <th>2017-09-30</th>\n",
              "      <td>38081065513</td>\n",
              "      <td>13.089702</td>\n",
              "      <td>4.320407e+09</td>\n",
              "      <td>6.379650e+09</td>\n",
              "      <td>0.029675</td>\n",
              "      <td>0.045266</td>\n",
              "      <td>-0.029663</td>\n",
              "      <td>13.091380</td>\n",
              "    </tr>\n",
              "    <tr>\n",
              "      <th>2017-12-31</th>\n",
              "      <td>46440533243</td>\n",
              "      <td>13.138159</td>\n",
              "      <td>8.359468e+09</td>\n",
              "      <td>1.267988e+10</td>\n",
              "      <td>0.048457</td>\n",
              "      <td>0.078132</td>\n",
              "      <td>0.093723</td>\n",
              "      <td>13.141102</td>\n",
              "    </tr>\n",
              "  </tbody>\n",
              "</table>\n",
              "<p>76 rows × 8 columns</p>\n",
              "</div>\n",
              "      <button class=\"colab-df-convert\" onclick=\"convertToInteractive('df-17b91e2e-aa8d-4b5b-8cd2-2265ec2c8601')\"\n",
              "              title=\"Convert this dataframe to an interactive table.\"\n",
              "              style=\"display:none;\">\n",
              "        \n",
              "  <svg xmlns=\"http://www.w3.org/2000/svg\" height=\"24px\"viewBox=\"0 0 24 24\"\n",
              "       width=\"24px\">\n",
              "    <path d=\"M0 0h24v24H0V0z\" fill=\"none\"/>\n",
              "    <path d=\"M18.56 5.44l.94 2.06.94-2.06 2.06-.94-2.06-.94-.94-2.06-.94 2.06-2.06.94zm-11 1L8.5 8.5l.94-2.06 2.06-.94-2.06-.94L8.5 2.5l-.94 2.06-2.06.94zm10 10l.94 2.06.94-2.06 2.06-.94-2.06-.94-.94-2.06-.94 2.06-2.06.94z\"/><path d=\"M17.41 7.96l-1.37-1.37c-.4-.4-.92-.59-1.43-.59-.52 0-1.04.2-1.43.59L10.3 9.45l-7.72 7.72c-.78.78-.78 2.05 0 2.83L4 21.41c.39.39.9.59 1.41.59.51 0 1.02-.2 1.41-.59l7.78-7.78 2.81-2.81c.8-.78.8-2.07 0-2.86zM5.41 20L4 18.59l7.72-7.72 1.47 1.35L5.41 20z\"/>\n",
              "  </svg>\n",
              "      </button>\n",
              "      \n",
              "  <style>\n",
              "    .colab-df-container {\n",
              "      display:flex;\n",
              "      flex-wrap:wrap;\n",
              "      gap: 12px;\n",
              "    }\n",
              "\n",
              "    .colab-df-convert {\n",
              "      background-color: #E8F0FE;\n",
              "      border: none;\n",
              "      border-radius: 50%;\n",
              "      cursor: pointer;\n",
              "      display: none;\n",
              "      fill: #1967D2;\n",
              "      height: 32px;\n",
              "      padding: 0 0 0 0;\n",
              "      width: 32px;\n",
              "    }\n",
              "\n",
              "    .colab-df-convert:hover {\n",
              "      background-color: #E2EBFA;\n",
              "      box-shadow: 0px 1px 2px rgba(60, 64, 67, 0.3), 0px 1px 3px 1px rgba(60, 64, 67, 0.15);\n",
              "      fill: #174EA6;\n",
              "    }\n",
              "\n",
              "    [theme=dark] .colab-df-convert {\n",
              "      background-color: #3B4455;\n",
              "      fill: #D2E3FC;\n",
              "    }\n",
              "\n",
              "    [theme=dark] .colab-df-convert:hover {\n",
              "      background-color: #434B5C;\n",
              "      box-shadow: 0px 1px 3px 1px rgba(0, 0, 0, 0.15);\n",
              "      filter: drop-shadow(0px 1px 2px rgba(0, 0, 0, 0.3));\n",
              "      fill: #FFFFFF;\n",
              "    }\n",
              "  </style>\n",
              "\n",
              "      <script>\n",
              "        const buttonEl =\n",
              "          document.querySelector('#df-17b91e2e-aa8d-4b5b-8cd2-2265ec2c8601 button.colab-df-convert');\n",
              "        buttonEl.style.display =\n",
              "          google.colab.kernel.accessAllowed ? 'block' : 'none';\n",
              "\n",
              "        async function convertToInteractive(key) {\n",
              "          const element = document.querySelector('#df-17b91e2e-aa8d-4b5b-8cd2-2265ec2c8601');\n",
              "          const dataTable =\n",
              "            await google.colab.kernel.invokeFunction('convertToInteractive',\n",
              "                                                     [key], {});\n",
              "          if (!dataTable) return;\n",
              "\n",
              "          const docLinkHtml = 'Like what you see? Visit the ' +\n",
              "            '<a target=\"_blank\" href=https://colab.research.google.com/notebooks/data_table.ipynb>data table notebook</a>'\n",
              "            + ' to learn more about interactive tables.';\n",
              "          element.innerHTML = '';\n",
              "          dataTable['output_type'] = 'display_data';\n",
              "          await google.colab.output.renderOutput(dataTable, element);\n",
              "          const docLink = document.createElement('div');\n",
              "          docLink.innerHTML = docLinkHtml;\n",
              "          element.appendChild(docLink);\n",
              "        }\n",
              "      </script>\n",
              "    </div>\n",
              "  </div>\n",
              "  "
            ],
            "text/plain": [
              "              Devengado  Devengado_BC  Devengado_dif1  Devengado_dif2  \\\n",
              "Tiempo                                                                  \n",
              "1999-03-31   5556160646     12.589807             NaN             NaN   \n",
              "1999-06-30   6423105672     12.629426    8.669450e+08             NaN   \n",
              "1999-09-30   7828654515     12.682965    1.405549e+09    2.272494e+09   \n",
              "1999-12-31   7445509920     12.669447   -3.831446e+08    1.022404e+09   \n",
              "2000-03-31   6652633175     12.638970   -7.928767e+08   -1.176021e+09   \n",
              "...                 ...           ...             ...             ...   \n",
              "2016-12-31  42988516970     13.119365    8.829521e+09    1.205607e+10   \n",
              "2017-03-31  31701415874     13.044436   -1.128710e+10   -2.457580e+09   \n",
              "2017-06-30  33760658159     13.060027    2.059242e+09   -9.227859e+09   \n",
              "2017-09-30  38081065513     13.089702    4.320407e+09    6.379650e+09   \n",
              "2017-12-31  46440533243     13.138159    8.359468e+09    1.267988e+10   \n",
              "\n",
              "            Devengado_BC_dif1  Devengado_BC_dif2  Devengado_BC_dif3  \\\n",
              "Tiempo                                                                \n",
              "1999-03-31                NaN                NaN                NaN   \n",
              "1999-06-30           0.039618                NaN                NaN   \n",
              "1999-09-30           0.053540           0.093158                NaN   \n",
              "1999-12-31          -0.013519           0.040021           0.079639   \n",
              "2000-03-31          -0.030477          -0.043996           0.009544   \n",
              "...                       ...                ...                ...   \n",
              "2016-12-31           0.056439           0.081028           0.100972   \n",
              "2017-03-31          -0.074929          -0.018490           0.006099   \n",
              "2017-06-30           0.015591          -0.059338          -0.002900   \n",
              "2017-09-30           0.029675           0.045266          -0.029663   \n",
              "2017-12-31           0.048457           0.078132           0.093723   \n",
              "\n",
              "            Fitted_Mod4  \n",
              "Tiempo                   \n",
              "1999-03-31     0.006215  \n",
              "1999-06-30    12.596022  \n",
              "1999-09-30    12.621858  \n",
              "1999-12-31    12.649690  \n",
              "2000-03-31    12.621166  \n",
              "...                 ...  \n",
              "2016-12-31    13.150612  \n",
              "2017-03-31    13.034330  \n",
              "2017-06-30    13.056825  \n",
              "2017-09-30    13.091380  \n",
              "2017-12-31    13.141102  \n",
              "\n",
              "[76 rows x 8 columns]"
            ]
          },
          "execution_count": 34,
          "metadata": {},
          "output_type": "execute_result"
        }
      ],
      "source": [
        "ts_train['Fitted_Mod4']= mod4.predict_in_sample(ts_train.Devengado_BC)\n",
        "ts_train"
      ]
    },
    {
      "cell_type": "code",
      "execution_count": 35,
      "metadata": {
        "id": "ZwkLtiUEuYgC"
      },
      "outputs": [],
      "source": [
        "n_per = len(ts_test)\n",
        "pred, ci = mod4.predict(n_periods=n_per, return_conf_int=True)\n",
        "\n",
        "df_pred = pd.DataFrame({'Devengado_BC_Pred': pred, 'Devengado_BC_Pred_li': ci[:,0],\n",
        "                        'Devengado_BC_Pred_ls': ci[:,1]})"
      ]
    },
    {
      "cell_type": "code",
      "execution_count": 36,
      "metadata": {
        "colab": {
          "base_uri": "https://localhost:8080/",
          "height": 676
        },
        "id": "h-iLUjaHuYgD",
        "outputId": "0a668d4c-edae-40f8-f291-cbcec33687ec"
      },
      "outputs": [
        {
          "data": {
            "text/html": [
              "\n",
              "  <div id=\"df-2cbf923f-e98e-4d1d-ac87-1fa95b6e5fd0\">\n",
              "    <div class=\"colab-df-container\">\n",
              "      <div>\n",
              "<style scoped>\n",
              "    .dataframe tbody tr th:only-of-type {\n",
              "        vertical-align: middle;\n",
              "    }\n",
              "\n",
              "    .dataframe tbody tr th {\n",
              "        vertical-align: top;\n",
              "    }\n",
              "\n",
              "    .dataframe thead th {\n",
              "        text-align: right;\n",
              "    }\n",
              "</style>\n",
              "<table border=\"1\" class=\"dataframe\">\n",
              "  <thead>\n",
              "    <tr style=\"text-align: right;\">\n",
              "      <th></th>\n",
              "      <th>Devengado_BC_Pred</th>\n",
              "      <th>Devengado_BC_Pred_li</th>\n",
              "      <th>Devengado_BC_Pred_ls</th>\n",
              "    </tr>\n",
              "  </thead>\n",
              "  <tbody>\n",
              "    <tr>\n",
              "      <th>2018-03-31</th>\n",
              "      <td>13.071753</td>\n",
              "      <td>13.036233</td>\n",
              "      <td>13.107272</td>\n",
              "    </tr>\n",
              "    <tr>\n",
              "      <th>2018-06-30</th>\n",
              "      <td>13.083947</td>\n",
              "      <td>13.046478</td>\n",
              "      <td>13.121416</td>\n",
              "    </tr>\n",
              "    <tr>\n",
              "      <th>2018-09-30</th>\n",
              "      <td>13.114122</td>\n",
              "      <td>13.075212</td>\n",
              "      <td>13.153033</td>\n",
              "    </tr>\n",
              "    <tr>\n",
              "      <th>2018-12-31</th>\n",
              "      <td>13.159882</td>\n",
              "      <td>13.120956</td>\n",
              "      <td>13.198807</td>\n",
              "    </tr>\n",
              "    <tr>\n",
              "      <th>2019-03-31</th>\n",
              "      <td>13.100060</td>\n",
              "      <td>13.048707</td>\n",
              "      <td>13.151413</td>\n",
              "    </tr>\n",
              "    <tr>\n",
              "      <th>2019-06-30</th>\n",
              "      <td>13.108924</td>\n",
              "      <td>13.055953</td>\n",
              "      <td>13.161895</td>\n",
              "    </tr>\n",
              "    <tr>\n",
              "      <th>2019-09-30</th>\n",
              "      <td>13.138517</td>\n",
              "      <td>13.084533</td>\n",
              "      <td>13.192501</td>\n",
              "    </tr>\n",
              "    <tr>\n",
              "      <th>2019-12-31</th>\n",
              "      <td>13.181836</td>\n",
              "      <td>13.127814</td>\n",
              "      <td>13.235858</td>\n",
              "    </tr>\n",
              "    <tr>\n",
              "      <th>2020-03-31</th>\n",
              "      <td>13.128010</td>\n",
              "      <td>13.065392</td>\n",
              "      <td>13.190628</td>\n",
              "    </tr>\n",
              "    <tr>\n",
              "      <th>2020-06-30</th>\n",
              "      <td>13.134045</td>\n",
              "      <td>13.069904</td>\n",
              "      <td>13.198186</td>\n",
              "    </tr>\n",
              "    <tr>\n",
              "      <th>2020-09-30</th>\n",
              "      <td>13.162900</td>\n",
              "      <td>13.097922</td>\n",
              "      <td>13.227878</td>\n",
              "    </tr>\n",
              "    <tr>\n",
              "      <th>2020-12-31</th>\n",
              "      <td>13.204001</td>\n",
              "      <td>13.138958</td>\n",
              "      <td>13.269044</td>\n",
              "    </tr>\n",
              "    <tr>\n",
              "      <th>2021-03-31</th>\n",
              "      <td>13.155637</td>\n",
              "      <td>13.084006</td>\n",
              "      <td>13.227267</td>\n",
              "    </tr>\n",
              "    <tr>\n",
              "      <th>2021-06-30</th>\n",
              "      <td>13.159285</td>\n",
              "      <td>13.086170</td>\n",
              "      <td>13.232399</td>\n",
              "    </tr>\n",
              "    <tr>\n",
              "      <th>2021-09-30</th>\n",
              "      <td>13.187280</td>\n",
              "      <td>13.113424</td>\n",
              "      <td>13.261136</td>\n",
              "    </tr>\n",
              "    <tr>\n",
              "      <th>2021-12-31</th>\n",
              "      <td>13.226357</td>\n",
              "      <td>13.152409</td>\n",
              "      <td>13.300305</td>\n",
              "    </tr>\n",
              "    <tr>\n",
              "      <th>2022-03-31</th>\n",
              "      <td>13.182973</td>\n",
              "      <td>13.103721</td>\n",
              "      <td>13.262224</td>\n",
              "    </tr>\n",
              "    <tr>\n",
              "      <th>2022-06-30</th>\n",
              "      <td>13.184620</td>\n",
              "      <td>13.103906</td>\n",
              "      <td>13.265334</td>\n",
              "    </tr>\n",
              "    <tr>\n",
              "      <th>2022-09-30</th>\n",
              "      <td>13.211668</td>\n",
              "      <td>13.130270</td>\n",
              "      <td>13.293065</td>\n",
              "    </tr>\n",
              "    <tr>\n",
              "      <th>2022-12-31</th>\n",
              "      <td>13.248888</td>\n",
              "      <td>13.167372</td>\n",
              "      <td>13.330405</td>\n",
              "    </tr>\n",
              "  </tbody>\n",
              "</table>\n",
              "</div>\n",
              "      <button class=\"colab-df-convert\" onclick=\"convertToInteractive('df-2cbf923f-e98e-4d1d-ac87-1fa95b6e5fd0')\"\n",
              "              title=\"Convert this dataframe to an interactive table.\"\n",
              "              style=\"display:none;\">\n",
              "        \n",
              "  <svg xmlns=\"http://www.w3.org/2000/svg\" height=\"24px\"viewBox=\"0 0 24 24\"\n",
              "       width=\"24px\">\n",
              "    <path d=\"M0 0h24v24H0V0z\" fill=\"none\"/>\n",
              "    <path d=\"M18.56 5.44l.94 2.06.94-2.06 2.06-.94-2.06-.94-.94-2.06-.94 2.06-2.06.94zm-11 1L8.5 8.5l.94-2.06 2.06-.94-2.06-.94L8.5 2.5l-.94 2.06-2.06.94zm10 10l.94 2.06.94-2.06 2.06-.94-2.06-.94-.94-2.06-.94 2.06-2.06.94z\"/><path d=\"M17.41 7.96l-1.37-1.37c-.4-.4-.92-.59-1.43-.59-.52 0-1.04.2-1.43.59L10.3 9.45l-7.72 7.72c-.78.78-.78 2.05 0 2.83L4 21.41c.39.39.9.59 1.41.59.51 0 1.02-.2 1.41-.59l7.78-7.78 2.81-2.81c.8-.78.8-2.07 0-2.86zM5.41 20L4 18.59l7.72-7.72 1.47 1.35L5.41 20z\"/>\n",
              "  </svg>\n",
              "      </button>\n",
              "      \n",
              "  <style>\n",
              "    .colab-df-container {\n",
              "      display:flex;\n",
              "      flex-wrap:wrap;\n",
              "      gap: 12px;\n",
              "    }\n",
              "\n",
              "    .colab-df-convert {\n",
              "      background-color: #E8F0FE;\n",
              "      border: none;\n",
              "      border-radius: 50%;\n",
              "      cursor: pointer;\n",
              "      display: none;\n",
              "      fill: #1967D2;\n",
              "      height: 32px;\n",
              "      padding: 0 0 0 0;\n",
              "      width: 32px;\n",
              "    }\n",
              "\n",
              "    .colab-df-convert:hover {\n",
              "      background-color: #E2EBFA;\n",
              "      box-shadow: 0px 1px 2px rgba(60, 64, 67, 0.3), 0px 1px 3px 1px rgba(60, 64, 67, 0.15);\n",
              "      fill: #174EA6;\n",
              "    }\n",
              "\n",
              "    [theme=dark] .colab-df-convert {\n",
              "      background-color: #3B4455;\n",
              "      fill: #D2E3FC;\n",
              "    }\n",
              "\n",
              "    [theme=dark] .colab-df-convert:hover {\n",
              "      background-color: #434B5C;\n",
              "      box-shadow: 0px 1px 3px 1px rgba(0, 0, 0, 0.15);\n",
              "      filter: drop-shadow(0px 1px 2px rgba(0, 0, 0, 0.3));\n",
              "      fill: #FFFFFF;\n",
              "    }\n",
              "  </style>\n",
              "\n",
              "      <script>\n",
              "        const buttonEl =\n",
              "          document.querySelector('#df-2cbf923f-e98e-4d1d-ac87-1fa95b6e5fd0 button.colab-df-convert');\n",
              "        buttonEl.style.display =\n",
              "          google.colab.kernel.accessAllowed ? 'block' : 'none';\n",
              "\n",
              "        async function convertToInteractive(key) {\n",
              "          const element = document.querySelector('#df-2cbf923f-e98e-4d1d-ac87-1fa95b6e5fd0');\n",
              "          const dataTable =\n",
              "            await google.colab.kernel.invokeFunction('convertToInteractive',\n",
              "                                                     [key], {});\n",
              "          if (!dataTable) return;\n",
              "\n",
              "          const docLinkHtml = 'Like what you see? Visit the ' +\n",
              "            '<a target=\"_blank\" href=https://colab.research.google.com/notebooks/data_table.ipynb>data table notebook</a>'\n",
              "            + ' to learn more about interactive tables.';\n",
              "          element.innerHTML = '';\n",
              "          dataTable['output_type'] = 'display_data';\n",
              "          await google.colab.output.renderOutput(dataTable, element);\n",
              "          const docLink = document.createElement('div');\n",
              "          docLink.innerHTML = docLinkHtml;\n",
              "          element.appendChild(docLink);\n",
              "        }\n",
              "      </script>\n",
              "    </div>\n",
              "  </div>\n",
              "  "
            ],
            "text/plain": [
              "            Devengado_BC_Pred  Devengado_BC_Pred_li  Devengado_BC_Pred_ls\n",
              "2018-03-31          13.071753             13.036233             13.107272\n",
              "2018-06-30          13.083947             13.046478             13.121416\n",
              "2018-09-30          13.114122             13.075212             13.153033\n",
              "2018-12-31          13.159882             13.120956             13.198807\n",
              "2019-03-31          13.100060             13.048707             13.151413\n",
              "2019-06-30          13.108924             13.055953             13.161895\n",
              "2019-09-30          13.138517             13.084533             13.192501\n",
              "2019-12-31          13.181836             13.127814             13.235858\n",
              "2020-03-31          13.128010             13.065392             13.190628\n",
              "2020-06-30          13.134045             13.069904             13.198186\n",
              "2020-09-30          13.162900             13.097922             13.227878\n",
              "2020-12-31          13.204001             13.138958             13.269044\n",
              "2021-03-31          13.155637             13.084006             13.227267\n",
              "2021-06-30          13.159285             13.086170             13.232399\n",
              "2021-09-30          13.187280             13.113424             13.261136\n",
              "2021-12-31          13.226357             13.152409             13.300305\n",
              "2022-03-31          13.182973             13.103721             13.262224\n",
              "2022-06-30          13.184620             13.103906             13.265334\n",
              "2022-09-30          13.211668             13.130270             13.293065\n",
              "2022-12-31          13.248888             13.167372             13.330405"
            ]
          },
          "execution_count": 36,
          "metadata": {},
          "output_type": "execute_result"
        }
      ],
      "source": [
        "df_pred"
      ]
    },
    {
      "cell_type": "code",
      "execution_count": 37,
      "metadata": {
        "colab": {
          "base_uri": "https://localhost:8080/",
          "height": 283
        },
        "id": "UMP_XNqruYgD",
        "outputId": "f6add98f-03a0-476d-a0d8-03205143225a"
      },
      "outputs": [
        {
          "data": {
            "image/png": "[encoded data removed]",
            "text/plain": [
              "<Figure size 1152x288 with 1 Axes>"
            ]
          },
          "metadata": {
            "needs_background": "light"
          },
          "output_type": "display_data"
        }
      ],
      "source": [
        "plt.figure(figsize=(16, 4))\n",
        "plt.plot(ts_train.Devengado_BC[1:], color='black', label=\"Datos originales Entrenamiento\")\n",
        "plt.plot(ts_train.Fitted_Mod4[1:], color='blue', label=\"Datos ajustados Entrenamiento\")\n",
        "plt.plot(ts_test.Devengado_BC, color='black', label=\"Datos originales Prueba\")\n",
        "plt.plot(df_pred.Devengado_BC_Pred, color='green', label=\"Pronósticos\")\n",
        "plt.plot(df_pred.Devengado_BC_Pred_li, color='green', linestyle='dashed', label=\"Li(95%) Pronósticos\")\n",
        "plt.plot(df_pred.Devengado_BC_Pred_ls, color='green', linestyle='dashed', label=\"Ls(95%) Pronósticos\")\n",
        "plt.xlabel('Años - Trimestres', fontsize=14)\n",
        "plt.ylabel(\"Serie Transformada\", fontsize=14)\n",
        "plt.legend(loc='best')\n",
        "\n",
        "plt.show()\n"
      ]
    },
    {
      "cell_type": "code",
      "execution_count": 42,
      "metadata": {
        "colab": {
          "base_uri": "https://localhost:8080/",
          "height": 294
        },
        "id": "QcAhte0WuYgD",
        "outputId": "211585ce-c475-4f69-aad3-37f2a1f46576"
      },
      "outputs": [
        {
          "data": {
            "image/png": "[encoded data removed]",
            "text/plain": [
              "<Figure size 1152x288 with 1 Axes>"
            ]
          },
          "metadata": {
            "needs_background": "light"
          },
          "output_type": "display_data"
        }
      ],
      "source": [
        "plt.figure(figsize=(16, 4))\n",
        "plt.plot(ts.Devengado, color='black', label=\"Datos originales\")\n",
        "plt.plot(np.power(lmbda*ts_train.Fitted_Mod4+1,1/lmbda), color='blue', label=\"Datos Ajustados\")\n",
        "\n",
        "plt.plot(np.power(lmbda*df_pred.Devengado_BC_Pred+1,1/lmbda), color='green', label=\"Pronósticos\")\n",
        "plt.plot(np.power(lmbda*df_pred.Devengado_BC_Pred_li+1,1/lmbda), color='green', linestyle='dashed', label=\"Li(95%) Pronósticos\")\n",
        "plt.plot(np.power(lmbda*df_pred.Devengado_BC_Pred_ls+1,1/lmbda), color='green', linestyle='dashed', label=\"Ls(95%) Pronósticos\")\n",
        "plt.ylabel(\"Devengado\", fontsize=14)\n",
        "plt.xlabel(\" Años trimestres\", fontsize=14)\n",
        "plt.legend(loc='best')\n",
        "plt.show()"
      ]
    },
    {
      "cell_type": "markdown",
      "metadata": {
        "id": "pEAI8UqeuYgE"
      },
      "source": [
        "> Vemos un desempeño del modelo ARIMA(3,1,2) aceptable con intervalo de predicción del 95%"
      ]
    },
    {
      "cell_type": "markdown",
      "metadata": {
        "id": "mFbATfnn9lI5"
      },
      "source": [
        "# Conclusión:\n",
        "- El modelo que mejor desempeño tiene es ARIMA(3,1,2), ademas de cumplir con el supuesto de independencia de errores."
      ]
    }
  ],
  "metadata": {
    "colab": {
      "provenance": []
    },
    "kernelspec": {
      "display_name": "Python 3",
      "language": "python",
      "name": "python3"
    },
    "language_info": {
      "codemirror_mode": {
        "name": "ipython",
        "version": 3
      },
      "file_extension": ".py",
      "mimetype": "text/x-python",
      "name": "python",
      "nbconvert_exporter": "python",
      "pygments_lexer": "ipython3",
      "version": "3.10.5 (tags/v3.10.5:f377153, Jun  6 2022, 16:14:13) [MSC v.1929 64 bit (AMD64)]"
    },
    "orig_nbformat": 4,
    "vscode": {
      "interpreter": {
        "hash": "26de051ba29f2982a8de78e945f0abaf191376122a1563185a90213a26c5da77"
      }
    }
  },
  "nbformat": 4,
  "nbformat_minor": 0
}
